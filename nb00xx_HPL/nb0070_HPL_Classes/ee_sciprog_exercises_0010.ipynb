{
 "cells": [
  {
   "cell_type": "markdown",
   "metadata": {},
   "source": [
    "# EE SciProg Exercises 001.0 #"
   ]
  },
  {
   "cell_type": "markdown",
   "metadata": {},
   "source": [
    "The examples are taken from Ch. 1 of the book https://hplgit.github.io/primer.html/doc/pub/half/book.pdf"
   ]
  },
  {
   "cell_type": "markdown",
   "metadata": {},
   "source": [
    "(BTW, I like Markdown and $\\LaTeX$ like math type setting such as $q = a^2$ or $\\int_0^{\\infty} e^{-x} dx = 1$ or $\\ldots$)"
   ]
  },
  {
   "cell_type": "markdown",
   "metadata": {},
   "source": [
    "**Exercise 1.4: Convert from meters to British length units (aka Imperial units)** <br>\n",
    "Make a program where you set a length given in meters and then compute\n",
    "and write out the corresponding length measured in inches, in feet, in\n",
    "yards, and in miles. Use that one inch is 2.54 cm, one foot is 12 inches,\n",
    "one yard is 3 feet, and one British mile is 1760 yards. For verification, a\n",
    "length of 640 meters corresponds to 25196.85 inches, 2099.74 feet, 699.91\n",
    "yards, or 0.3977 miles."
   ]
  },
  {
   "cell_type": "markdown",
   "metadata": {},
   "source": [
    "**Hint:** Use the trick of expanding with $\\frac{1}{1}$, such as:\n",
    "\n",
    "$1\\;\\mathrm{m}\\cdot\\frac{100\\;\\mathrm{cm}}{\\mathrm{m}}\\cdot\\frac{\\mathrm{inch}}{2.54\\; \\mathrm{cm}} = x\\;\\mathrm{inch}$"
   ]
  },
  {
   "cell_type": "code",
   "execution_count": 2,
   "metadata": {},
   "outputs": [
    {
     "name": "stdout",
     "output_type": "stream",
     "text": [
      "--> The length of 640.00 m in inch is 25196.85 inch\n",
      "--> ... in feet ...\n"
     ]
    }
   ],
   "source": [
    "# Conversion of units\n",
    "\n",
    "length_in_m = 640 # m\n",
    "\n",
    "cm_per_m = 100          # 100 cm / m\n",
    "m_per_cm = 1/cm_per_m   # reciprocal \n",
    "\n",
    "cm_per_inch = 2.54            # 2.54 cm / inch \n",
    "inch_per_cm = 1/cm_per_inch   # reciprocal \n",
    "\n",
    "inch_per_foot = 12      # 12 inch / feet \n",
    "# foot_per_inch = ...\n",
    "\n",
    "length_in_inch = length_in_m * cm_per_m * inch_per_cm\n",
    "# length_in_feet ...\n",
    "# go on ...\n",
    "\n",
    "print(\"--> The length of %.2f m in inch is %.2f inch\" % (length_in_m, length_in_inch))\n",
    "print(\"--> ... in feet ...\")\n",
    "# print(\"... in yards ...\")\n",
    "# print(\"... in miles ...\")"
   ]
  },
  {
   "cell_type": "code",
   "execution_count": 5,
   "metadata": {},
   "outputs": [
    {
     "name": "stdout",
     "output_type": "stream",
     "text": [
      "--The length of 640.00 m in foot is 2099.74 foot\n"
     ]
    }
   ],
   "source": [
    "length_in_feet = length_in_inch / inch_per_foot\n",
    "print(\"--The length of %.2f m in foot is %.2f foot\" % (length_in_m, length_in_feet))"
   ]
  },
  {
   "cell_type": "markdown",
   "metadata": {},
   "source": [
    "**Exercise 1.5: Compute the mass of various substances** <br>\n",
    "The density of a substance is defined as $\\rho = m/V$ , where m is the mass\n",
    "of a volume $V$. <br>\n",
    "Compute and print out the mass of one liter of each of\n",
    "the following substances whose densities in $g/cm^3$ are found in the file <br>\n",
    "https://raw.githubusercontent.com/hplgit/scipro-primer/master/src-3rd/files/densities.dat: <br>\n",
    "iron, air, gasoline, ice, the human body, silver, and platinum."
   ]
  },
  {
   "cell_type": "code",
   "execution_count": 152,
   "metadata": {},
   "outputs": [
    {
     "name": "stdout",
     "output_type": "stream",
     "text": [
      "0.0012\n"
     ]
    }
   ],
   "source": [
    "import numpy as np \n",
    "volume = 1 #$cm^3\n",
    "def f(x):\n",
    "    return x*volume\n",
    "print(f(0.0012)) \n",
    "x_list = [0.67,0.9,1.0,1.025,1.03,2.6,2.7,7.8,10.5,13.6,18.9,21.4,5.52,13,3.3,1.4,160]\n",
    "x_arr = np.array(x_list)"
   ]
  },
  {
   "cell_type": "code",
   "execution_count": 46,
   "metadata": {},
   "outputs": [
    {
     "data": {
      "text/plain": [
       "array([  0.67 ,   0.9  ,   1.   ,   1.025,   1.03 ,   2.6  ,   2.7  ,\n",
       "         7.8  ,  10.5  ,  13.6  ,  18.9  ,  21.4  ,   5.52 ,  13.   ,\n",
       "         3.3  ,   1.4  , 160.   ])"
      ]
     },
     "execution_count": 46,
     "metadata": {},
     "output_type": "execute_result"
    }
   ],
   "source": [
    "f(x_arr)"
   ]
  },
  {
   "cell_type": "code",
   "execution_count": 155,
   "metadata": {},
   "outputs": [
    {
     "name": "stdout",
     "output_type": "stream",
     "text": [
      "The mass of the air density 0.00120g/$cm^3$ is 0.00120g\n"
     ]
    }
   ],
   "source": [
    "volume = 1 #$cm^3$\n",
    "density = 0.0012 #$g/cm^3$\n",
    "mass = volume * density\n",
    "print(\"The mass of the air density %.5fg/cm^3 is %.5fg\" % (density,mass))"
   ]
  },
  {
   "cell_type": "code",
   "execution_count": 55,
   "metadata": {},
   "outputs": [
    {
     "name": "stdout",
     "output_type": "stream",
     "text": [
      "[  0.67    0.9     1.      1.025   1.03    2.6     2.7     7.8    10.5\n",
      "  13.6    18.9    21.4     5.52   13.      3.3     1.4   160.   ]\n"
     ]
    }
   ],
   "source": [
    "def mass(x):\n",
    "    return x*volume\n",
    "print(mass(x_arr))"
   ]
  },
  {
   "cell_type": "code",
   "execution_count": null,
   "metadata": {},
   "outputs": [],
   "source": []
  },
  {
   "cell_type": "code",
   "execution_count": null,
   "metadata": {},
   "outputs": [],
   "source": []
  },
  {
   "cell_type": "markdown",
   "metadata": {},
   "source": [
    "**Exercise 1.8: Type in program text** <br>\n",
    "Type (copy) the following program in your editor (code cell) and execute it. If your program\n",
    "does not work, check that you have copied the code correctly.\n",
    "\n",
    "a) Does $sin^2(x) + cos^2(x) = 1$?\n",
    "\n",
    "`\n",
    "from math import sin, cos\n",
    "x = pi/4\n",
    "1_val = math.sin^2(x) + math.cos^2(x)\n",
    "print 1_VAL\n",
    "`\n",
    "\n",
    "b) Compute $s$ in meters when $s = v_0 t + 0,5at^2$, with <br>\n",
    "$v_0 = 3\\, \\mathrm{m/s}\\;,\\; t = 1\\,\\mathrm{s}\\;,\\; a = 2\\,\\mathrm{m/s^2}$\n",
    "\n",
    "`\n",
    "v0 = 3 m/s\n",
    "t = 1 s\n",
    "a = 2 m/s**2\n",
    "s = v0.t + 0,5.a.t**2\n",
    "print s\n",
    "`\n",
    "\n",
    "c) Verify these equations:\n",
    "\n",
    "$\n",
    "(a + b)^2 = a^2 + 2ab + b^2 \\\\ \n",
    "(a − b)^2 = a^2 − 2ab + b^2\n",
    "$\n",
    "\n",
    "`\n",
    "a = 3,3 b = 5,3\n",
    "a2 = a**2\n",
    "b2 = b**2\n",
    "eq1_sum = a2 + 2ab + b2\n",
    "eq2_sum = a2 - 2ab + b2\n",
    "eq1_pow = (a + b)**2\n",
    "eq2_pow = (a - b)**2\n",
    "print ’First equation: %g = %g’, % (eq1_sum, eq1_pow)\n",
    "print ’Second equation: %h = %h’, % (eq2_pow, eq2_pow)\n",
    "`\n"
   ]
  },
  {
   "cell_type": "code",
   "execution_count": 172,
   "metadata": {},
   "outputs": [
    {
     "name": "stderr",
     "output_type": "stream",
     "text": [
      "<>:3: SyntaxWarning: 'int' object is not callable; perhaps you missed a comma?\n",
      "<>:3: SyntaxWarning: 'int' object is not callable; perhaps you missed a comma?\n",
      "<>:3: SyntaxWarning: 'int' object is not callable; perhaps you missed a comma?\n",
      "<>:3: SyntaxWarning: 'int' object is not callable; perhaps you missed a comma?\n",
      "<ipython-input-172-ac105dd2672b>:3: SyntaxWarning: 'int' object is not callable; perhaps you missed a comma?\n",
      "  y = sin**2(x) + cos**2(x)\n",
      "<ipython-input-172-ac105dd2672b>:3: SyntaxWarning: 'int' object is not callable; perhaps you missed a comma?\n",
      "  y = sin**2(x) + cos**2(x)\n"
     ]
    },
    {
     "ename": "TypeError",
     "evalue": "'int' object is not callable",
     "output_type": "error",
     "traceback": [
      "\u001b[1;31m---------------------------------------------------------------------------\u001b[0m",
      "\u001b[1;31mTypeError\u001b[0m                                 Traceback (most recent call last)",
      "\u001b[1;32m<ipython-input-172-ac105dd2672b>\u001b[0m in \u001b[0;36m<module>\u001b[1;34m\u001b[0m\n\u001b[0;32m      1\u001b[0m \u001b[1;32mfrom\u001b[0m \u001b[0mmath\u001b[0m \u001b[1;32mimport\u001b[0m \u001b[0msin\u001b[0m\u001b[1;33m,\u001b[0m \u001b[0mcos\u001b[0m\u001b[1;33m,\u001b[0m \u001b[0mpi\u001b[0m\u001b[1;33m\u001b[0m\u001b[1;33m\u001b[0m\u001b[0m\n\u001b[0;32m      2\u001b[0m \u001b[0mx\u001b[0m \u001b[1;33m=\u001b[0m \u001b[0mpi\u001b[0m\u001b[1;33m/\u001b[0m\u001b[1;36m4\u001b[0m\u001b[1;33m\u001b[0m\u001b[1;33m\u001b[0m\u001b[0m\n\u001b[1;32m----> 3\u001b[1;33m \u001b[0my\u001b[0m \u001b[1;33m=\u001b[0m \u001b[0msin\u001b[0m\u001b[1;33m**\u001b[0m\u001b[1;36m2\u001b[0m\u001b[1;33m(\u001b[0m\u001b[0mx\u001b[0m\u001b[1;33m)\u001b[0m \u001b[1;33m+\u001b[0m \u001b[0mcos\u001b[0m\u001b[1;33m**\u001b[0m\u001b[1;36m2\u001b[0m\u001b[1;33m(\u001b[0m\u001b[0mx\u001b[0m\u001b[1;33m)\u001b[0m\u001b[1;33m\u001b[0m\u001b[1;33m\u001b[0m\u001b[0m\n\u001b[0m\u001b[0;32m      4\u001b[0m \u001b[0mprint\u001b[0m\u001b[1;33m(\u001b[0m\u001b[1;34m\"the sum is %.s\"\u001b[0m \u001b[1;33m%\u001b[0m \u001b[1;33m(\u001b[0m\u001b[0my\u001b[0m\u001b[1;33m)\u001b[0m\u001b[1;33m)\u001b[0m\u001b[1;33m\u001b[0m\u001b[1;33m\u001b[0m\u001b[0m\n",
      "\u001b[1;31mTypeError\u001b[0m: 'int' object is not callable"
     ]
    }
   ],
   "source": [
    "from math import sin, cos, pi\n",
    "x = pi/4\n",
    "y = sin**2(x) + cos**2(x)\n",
    "print(\"the sum is\" (y))"
   ]
  },
  {
   "cell_type": "code",
   "execution_count": 170,
   "metadata": {},
   "outputs": [
    {
     "data": {
      "text/plain": [
       "float"
      ]
     },
     "execution_count": 170,
     "metadata": {},
     "output_type": "execute_result"
    }
   ],
   "source": [
    "type(y)"
   ]
  },
  {
   "cell_type": "code",
   "execution_count": 98,
   "metadata": {},
   "outputs": [
    {
     "name": "stdout",
     "output_type": "stream",
     "text": [
      "the distance is 4.00m\n"
     ]
    }
   ],
   "source": [
    "v0 = 3 #m/s\n",
    "t = 1 #s\n",
    "a = 2 #m/s**2\n",
    "s = v0*t+0.5*a*t**2\n",
    "print(\"the distance is %.2fm\" % s)"
   ]
  },
  {
   "cell_type": "code",
   "execution_count": 103,
   "metadata": {},
   "outputs": [
    {
     "name": "stdout",
     "output_type": "stream",
     "text": [
      "First equation: 68.89 = 68.89\n",
      "Second equation: 5.29 = 5.29\n"
     ]
    }
   ],
   "source": [
    "a = 3 \n",
    "b = 5.3\n",
    "a2 = a**2\n",
    "b2 = b**2\n",
    "eq1_sum = a2 + 2*a*b + b2\n",
    "eq2_sum = a2 - 2*a*b + b2\n",
    "eq1_pow = (a + b)**2\n",
    "eq2_pow = (a - b)**2\n",
    "print(\"First equation: %g = %g\" % (eq1_sum, eq1_pow))\n",
    "print(\"Second equation: %g = %g\" % (eq2_pow, eq2_pow))"
   ]
  },
  {
   "cell_type": "code",
   "execution_count": null,
   "metadata": {},
   "outputs": [],
   "source": []
  },
  {
   "cell_type": "code",
   "execution_count": null,
   "metadata": {},
   "outputs": [],
   "source": []
  },
  {
   "cell_type": "markdown",
   "metadata": {},
   "source": [
    "**Exercise 1.10: Evaluate a Gaussian function**\n",
    "\n",
    "The bell-shaped **Gaussian** function,\n",
    "\n",
    "$$ f(x) = \\frac{1}{\\sqrt{2\\pi\\sigma^2}}\\exp\\left[{-\\frac{(x-\\mu)^2}{2\\sigma^2}}\\right]$$\n",
    "\n",
    "is one of the most widely used functions in science and technology.  <br>\n",
    "It is a probability density function.\n",
    "The parameters $\\mu$ and $\\sigma > 0$ are prescribed real numbers. <br>\n",
    "Make a program for evaluating this function when $\\mu = 0$, $\\sigma = 2$, and $x = 1$."
   ]
  },
  {
   "cell_type": "code",
   "execution_count": 111,
   "metadata": {},
   "outputs": [],
   "source": [
    "from math import pi, exp, sqrt\n",
    "mu = 0\n",
    "sigma = 2\n",
    "def f(x):\n",
    "    return 1/sqrt(2*pi*sigma**2) * exp(-(x-mu)**2 / 2*sigma**2)"
   ]
  },
  {
   "cell_type": "code",
   "execution_count": 112,
   "metadata": {},
   "outputs": [
    {
     "data": {
      "text/plain": [
       "0.02699548325659403"
      ]
     },
     "execution_count": 112,
     "metadata": {},
     "output_type": "execute_result"
    }
   ],
   "source": [
    "f(1)"
   ]
  },
  {
   "cell_type": "markdown",
   "metadata": {},
   "source": [
    "**Exercise 1.12: How to cook the perfect egg** <br>\n",
    "As an egg cooks, the proteins first denature and then coagulate. When\n",
    "the temperature exceeds a critical point, reactions begin and proceed\n",
    "faster as the temperature increases. In the egg white, the proteins start\n",
    "to coagulate for temperatures above 63°C, while in the yolk the proteins\n",
    "start to coagulate for temperatures above 70°C. For a soft boiled egg,\n",
    "the white needs to have been heated long enough to coagulate at a\n",
    "temperature above 63°C, but the yolk should not be heated above 70°C.\n",
    "For a hard boiled egg, the center of the yolk should be allowed to reach\n",
    "70°C.\n",
    "\n",
    "The following formula expresses the time $t$ it takes (in seconds) for\n",
    "the center of the yolk to reach the temperature $T_y$ (in Celsius degrees):\n",
    "\n",
    "$$t = \\frac{M^{2/3}c\\rho^{1/3}}{K\\pi^2(4\\pi/3)^{2/3}}\n",
    "\\ln\\left[0.76 \\frac{T_0-T_w}{T_y-T_w} \\right]$$\n",
    "\n",
    "Here, $M$, $\\rho$, $c$, and $K$ are properties of the egg: $M$ is the mass, $\\rho$ is the density, $c$ is the specific heat capacity, and $K$ is thermal conductivity.\n",
    "\n",
    "Relevant values are <br>\n",
    "$M = 47\\,\\mathrm{g}$ for a small egg and $M = 67\\,\\mathrm{g}$ for a large egg, <br>\n",
    "$\\rho = 1.038\\,\\mathrm{g\\,cm^{-3}}$, <br>\n",
    "$c = 3.7\\,\\mathrm{J\\,g^{-1}\\,K^{−1}}$, and <br>\n",
    "$K = 5.4 \\cdot 10^{-3}\\, \\mathrm{W\\,cm^{-1}\\,K^{−1}}$.\n",
    "\n",
    "Furthermore, $T_w$ is the temperature (in C degrees) of the boiling water,\n",
    "and To is the original temperature (in C degrees) of the egg before being\n",
    "put in the water. Implement the formula in a program, set $T_w = 100\\,\\mathrm{°C}$ and $T_y = 70\\,\\mathrm{°C}$, and compute t for a large egg taken from the fridge ($T_0 = 4\\,\\mathrm{°C}$) and from room temperature ($T_0 = 20\\,\\mathrm{°C}$)."
   ]
  },
  {
   "cell_type": "code",
   "execution_count": 150,
   "metadata": {},
   "outputs": [
    {
     "name": "stdout",
     "output_type": "stream",
     "text": [
      "The ammount of time needed for the yoke to reach Ty 396.57634252945064js from 0C and 315.2178637859262js from 20C\n"
     ]
    }
   ],
   "source": [
    "from numpy import log as ln \n",
    "from math import pi\n",
    "𝑀= 47 #g  #for a small egg and \n",
    "𝑀 = 67#g #for a large egg,\n",
    "𝜌 = 1.038#gcm−3,\n",
    "𝑐 = 3.7J#g−1K−1, and\n",
    "𝐾 = 5.4*1e-3 #Wcm−1K−1.\n",
    "Tw = 100 #C\n",
    "Ty = 70 #C\n",
    "T01 = 4 #C\n",
    "T02 = 20 #C\n",
    "t = (((M**(2/3))*(𝑐*𝜌**(1/3))*(ln(0.76*((T01-Tw)/(Ty-Tw))))) / (𝐾*(pi**2) * (4*pi / 3)**(2/3)))\n",
    "t1 = (((M**(2/3))*(𝑐*𝜌**(1/3))*(ln(0.76*((T02-Tw)/(Ty-Tw))))) / (𝐾*(pi**2) * (4*pi / 3)**(2/3)))\n",
    "print(\"The ammount of time needed for the yoke to reach Ty %ss from 0C and %ss from 20C\" % (t,t1))"
   ]
  },
  {
   "cell_type": "code",
   "execution_count": 132,
   "metadata": {},
   "outputs": [
    {
     "data": {
      "text/plain": [
       "6.609605708824177j"
      ]
     },
     "execution_count": 132,
     "metadata": {},
     "output_type": "execute_result"
    }
   ],
   "source": [
    "t/60"
   ]
  },
  {
   "cell_type": "code",
   "execution_count": null,
   "metadata": {},
   "outputs": [],
   "source": []
  }
 ],
 "metadata": {
  "kernelspec": {
   "display_name": "Python 3",
   "language": "python",
   "name": "python3"
  },
  "language_info": {
   "codemirror_mode": {
    "name": "ipython",
    "version": 3
   },
   "file_extension": ".py",
   "mimetype": "text/x-python",
   "name": "python",
   "nbconvert_exporter": "python",
   "pygments_lexer": "ipython3",
   "version": "3.8.3"
  }
 },
 "nbformat": 4,
 "nbformat_minor": 4
}

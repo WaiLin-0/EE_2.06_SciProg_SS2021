{
 "cells": [
  {
   "cell_type": "markdown",
   "metadata": {},
   "source": [
    "# Normalization of Black body function and it's integral\n",
    "$$F_0^\\lambda(\\lambda,T) = \\int_0^{+\\lambda} \\frac{b_\\lambda(\\lambda,T)}{sigma*T^4} d\\lambda $$\n",
    "\n",
    "$$ X = \\lambda*T $$\n",
    "$$dX = T d\\lambda$$\n",
    "\n",
    "$$F_0^\\lambda(\\lambda,T) = \\frac{1}{sigma} \\int_0^{X=\\lambda*T}\\frac{c_1}{X^5\\left( \\exp\\left(\\frac{c_2}{X}\\right)-1 \\right)} dX $$\n"
   ]
  },
  {
   "cell_type": "code",
   "execution_count": null,
   "metadata": {},
   "outputs": [],
   "source": [
    "# %matplotlib inline\n",
    "from matplotlib import pyplot as plt\n",
    "import numpy as np\n",
    "from scipy.constants import sigma"
   ]
  },
  {
   "cell_type": "code",
   "execution_count": 117,
   "metadata": {},
   "outputs": [],
   "source": [
    "from scipy.constants import pi, c, h, k, sigma\n",
    "def normalizedF(x):\n",
    "    from scipy.constants import k,h,c,pi\n",
    "    from numpy import exp\n",
    "    #s = sigma\n",
    "    # here we could also import all the constants from scipy.constants\n",
    "    #k = 1.38054e-23 # J/K\n",
    "    #h = 6.6256e-34 # Js\n",
    "    #s = 5.6703e-8 # W/(m^2 K^4)\n",
    "    #c = 2.997e8 # m/s\n",
    "    c1= 2*pi*c**2*h\n",
    "    c2= c*h/k\n",
    "    el = c1/(x**5*(exp(c2/(x))-1))\n",
    "    e2 = el/sigma\n",
    "    return(e2)"
   ]
  },
  {
   "cell_type": "code",
   "execution_count": 205,
   "metadata": {},
   "outputs": [],
   "source": [
    "T = 6000\n",
    "lam=np.arange(400,700,0.1)*1e-9\n",
    "x = lam*T"
   ]
  },
  {
   "cell_type": "code",
   "execution_count": 206,
   "metadata": {},
   "outputs": [
    {
     "data": {
      "text/plain": [
       "(array([0.0024   , 0.0024006, 0.0024012, ..., 0.0041982, 0.0041988,\n",
       "        0.0041994]),\n",
       " array([206.98512681, 207.03734595, 207.08948866, ..., 169.86631082,\n",
       "        169.83092003, 169.7955308 ]))"
      ]
     },
     "execution_count": 206,
     "metadata": {},
     "output_type": "execute_result"
    }
   ],
   "source": [
    "x, normalizedF(x)\n"
   ]
  },
  {
   "cell_type": "code",
   "execution_count": 207,
   "metadata": {},
   "outputs": [
    {
     "name": "stdout",
     "output_type": "stream",
     "text": [
      "For lambda*T=1.884mmK, the percentage of Spectral Excitance for that range is 0.95%\n"
     ]
    }
   ],
   "source": [
    "F_x = normalizedF(x)\n",
    "x_left= x[0:-1]\n",
    "x_right = x[1:]\n",
    "F0_left = F_x[0:-1]\n",
    "F0_right = F_x[1:]\n",
    "Dx = x_right - x_left\n",
    "My = 0.5*(F0_right+F0_left)\n",
    "Area = Dx*My\n",
    "np.sum(Area[0:1])\n",
    "percentage = Area*100\n",
    "Q = np.sum(percentage)\n",
    "P = np.sum(Area[0:76])*100\n",
    "print(f\"For lambda*T=1.884mmK, the percentage of Spectral Excitance for that range is {P:.2f}%\")"
   ]
  },
  {
   "cell_type": "code",
   "execution_count": 208,
   "metadata": {},
   "outputs": [
    {
     "name": "stdout",
     "output_type": "stream",
     "text": [
      "For the sample wavelengths, the percentage of Spectral Excitance for that range is 37.56%\n"
     ]
    }
   ],
   "source": [
    "print(f\"For the sample wavelengths, the percentage of Spectral Excitance for that range is {Q:.2f}%\")"
   ]
  },
  {
   "cell_type": "code",
   "execution_count": null,
   "metadata": {},
   "outputs": [],
   "source": []
  },
  {
   "cell_type": "code",
   "execution_count": 209,
   "metadata": {},
   "outputs": [
    {
     "data": {
      "image/png": "[encoded data removed]",
      "text/plain": [
       "<Figure size 432x288 with 1 Axes>"
      ]
     },
     "metadata": {
      "needs_background": "light"
     },
     "output_type": "display_data"
    }
   ],
   "source": [
    "\n",
    "fig1, ax1 = plt.subplots(1,1)\n",
    "\n",
    "ax1.plot(x*1e3,F_x)\n",
    "ax1.set_xlim(np.array([0,50]))\n",
    "plt.grid(True)\n",
    "\n",
    "ax1.set_title(r'Normalized Spectral Exitance function of Ideal Black Body')\n",
    "ax1.set_xlabel(r'Wavelength*T = $x \\;\\;/\\;\\; \\mathrm{mm}K$')\n",
    "ax1.set_ylabel(r'-')\n",
    "\n",
    "ax1.legend([f\"T=5800 K\"])\n",
    "plt.show()\n",
    "##????"
   ]
  },
  {
   "cell_type": "code",
   "execution_count": null,
   "metadata": {},
   "outputs": [],
   "source": []
  },
  {
   "cell_type": "code",
   "execution_count": null,
   "metadata": {},
   "outputs": [],
   "source": []
  }
 ],
 "metadata": {
  "kernelspec": {
   "display_name": "Python 3",
   "language": "python",
   "name": "python3"
  },
  "language_info": {
   "codemirror_mode": {
    "name": "ipython",
    "version": 3
   },
   "file_extension": ".py",
   "mimetype": "text/x-python",
   "name": "python",
   "nbconvert_exporter": "python",
   "pygments_lexer": "ipython3",
   "version": "3.8.3"
  }
 },
 "nbformat": 4,
 "nbformat_minor": 4
}

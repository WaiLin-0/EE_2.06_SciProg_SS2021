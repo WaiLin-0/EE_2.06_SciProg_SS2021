{
 "cells": [
  {
   "cell_type": "markdown",
   "metadata": {},
   "source": [
    "# Statictics\n",
    " /Exercises\n",
    " "
   ]
  },
  {
   "cell_type": "code",
   "execution_count": 8,
   "metadata": {},
   "outputs": [
    {
     "name": "stdout",
     "output_type": "stream",
     "text": [
      "66775.0\n"
     ]
    }
   ],
   "source": [
    "import numpy as np \n",
    "x_list = [62900,69100,58300,76800]\n",
    "salary = np.array(x_list)\n",
    "n = len(x_list)\n",
    "sample_mean = np.sum(salary)/n\n",
    "print(sample_mean)"
   ]
  },
  {
   "cell_type": "code",
   "execution_count": 9,
   "metadata": {},
   "outputs": [
    {
     "name": "stdout",
     "output_type": "stream",
     "text": [
      "83.0\n"
     ]
    }
   ],
   "source": [
    "x_list = [92, 96, 61, 86, 79, 84]\n",
    "grades = np.array(x_list)\n",
    "n = len(x_list)\n",
    "population_mean = np.sum(grades)/n\n",
    "print(population_mean)"
   ]
  },
  {
   "cell_type": "code",
   "execution_count": 12,
   "metadata": {},
   "outputs": [
    {
     "data": {
      "text/plain": [
       "0.0"
      ]
     },
     "execution_count": 12,
     "metadata": {},
     "output_type": "execute_result"
    }
   ],
   "source": [
    "x_list = [ 5, 9, 4, 10]\n",
    "x = np.array(x_list)\n",
    "n = len(x_list)\n",
    "y =  np.sum(x)/n\n",
    "np.sum(x-y)"
   ]
  },
  {
   "cell_type": "code",
   "execution_count": 23,
   "metadata": {},
   "outputs": [
    {
     "name": "stdout",
     "output_type": "stream",
     "text": [
      "The sum is -0.00\n"
     ]
    }
   ],
   "source": [
    "x_list = [ 1.3, 7.0, 3.6, 4.1, 5.0]\n",
    "x = np.array(x_list)\n",
    "n = len(x_list)\n",
    "y =  np.sum(x)/n\n",
    "print(f\"The sum is {np.sum(x-y):.2f}\")"
   ]
  },
  {
   "cell_type": "code",
   "execution_count": 34,
   "metadata": {},
   "outputs": [
    {
     "name": "stdout",
     "output_type": "stream",
     "text": [
      "14.58\n"
     ]
    }
   ],
   "source": [
    "x_list = [ 16.25, 12.9, 14.58]\n",
    "x = np.array(x_list)\n",
    "n = len(x_list)\n",
    "y =  np.sum(x)/n\n",
    "print(f\"{y:.2f}\")"
   ]
  },
  {
   "cell_type": "code",
   "execution_count": 37,
   "metadata": {},
   "outputs": [
    {
     "name": "stdout",
     "output_type": "stream",
     "text": [
      "The average salary 20.95\n"
     ]
    }
   ],
   "source": [
    "x_list = [ 15.40, 20.10, 18.75, 22.76, 30.67, 18.00]\n",
    "x = np.array(x_list)\n",
    "n = len(x_list)\n",
    "y =  np.sum(x)/n\n",
    "print(f\"The average salary {y:.2f}\")"
   ]
  },
  {
   "cell_type": "code",
   "execution_count": 38,
   "metadata": {},
   "outputs": [
    {
     "name": "stdout",
     "output_type": "stream",
     "text": [
      "Mean volume of cars sold 15.40\n"
     ]
    }
   ],
   "source": [
    "x_list = [ 15, 23, 4, 19, 18, 10, 10, 8, 28, 19]\n",
    "x = np.array(x_list)\n",
    "n = len(x_list)\n",
    "y =  np.sum(x)/n\n",
    "print(f\"Mean volume of cars sold {y:.2f}\")"
   ]
  },
  {
   "cell_type": "code",
   "execution_count": 40,
   "metadata": {},
   "outputs": [
    {
     "name": "stdout",
     "output_type": "stream",
     "text": [
      "Mean volume of calls per day in May 23.86\n"
     ]
    }
   ],
   "source": [
    "x_list = [14, 24, 19, 31, 36, 26, 17]\n",
    "x = np.array(x_list)\n",
    "n = len(x_list)\n",
    "y =  np.sum(x)/n\n",
    "print(f\"Mean volume of calls per day in May {y:.2f}\")"
   ]
  },
  {
   "cell_type": "code",
   "execution_count": 46,
   "metadata": {},
   "outputs": [
    {
     "name": "stdout",
     "output_type": "stream",
     "text": [
      "Mean cost for the sample customers  54.55\n"
     ]
    }
   ],
   "source": [
    "x_list = [54, 48, 58, 50, 25, 47, 75, 46, 60, 70, \n",
    "          67, 68, 39, 35, 56, 66, 33, 62, 65, 67]\n",
    "x = np.array(x_list)\n",
    "n = len(x_list)\n",
    "y =  np.sum(x)/n\n",
    "print(f\"Mean cost for the sample customers  {y:4.2f}\")"
   ]
  },
  {
   "cell_type": "code",
   "execution_count": 47,
   "metadata": {},
   "outputs": [
    {
     "name": "stdout",
     "output_type": "stream",
     "text": [
      "Mean hours of overtime per worker in the last month  10.73\n"
     ]
    }
   ],
   "source": [
    "x_list = [13, 13, 12, 15, 7, 15, 5, 12, 6, 7, 12, 10, 9, 13, 12]\n",
    "x = np.array(x_list)\n",
    "n = len(x_list)\n",
    "y =  np.sum(x)/n\n",
    "print(f\"Mean hours of overtime per worker in the last month  {y:4.2f}\")"
   ]
  },
  {
   "cell_type": "code",
   "execution_count": 59,
   "metadata": {},
   "outputs": [
    {
     "data": {
      "text/plain": [
       "237.0"
      ]
     },
     "execution_count": 59,
     "metadata": {},
     "output_type": "execute_result"
    }
   ],
   "source": [
    "normal = [95, 400]\n",
    "spring = [126, 200]\n",
    "final = [79, 100]\n",
    "prices = [400, 200, 100]\n",
    "quantity = [95, 126, 79]\n",
    "c1 = np.array(normal)\n",
    "c2 = np.array(spring)\n",
    "c3 = np.array(final)\n",
    "x = np.array(prices)\n",
    "y = np.array(quantity)\n",
    "weighted_mean = (np.prod(c1) + np.prod(c2) + np.prod(c3) ) /np.sum(y)\n",
    "weighted_mean\n"
   ]
  },
  {
   "cell_type": "code",
   "execution_count": 63,
   "metadata": {},
   "outputs": [
    {
     "data": {
      "text/plain": [
       "237.00000000000003"
      ]
     },
     "execution_count": 63,
     "metadata": {},
     "output_type": "execute_result"
    }
   ],
   "source": [
    "400*95/np.sum(y) + 200*126/np.sum(y) + 100*79/np.sum(y)"
   ]
  },
  {
   "cell_type": "code",
   "execution_count": 65,
   "metadata": {},
   "outputs": [
    {
     "name": "stdout",
     "output_type": "stream",
     "text": [
      "The average price of shares 370.59\n"
     ]
    }
   ],
   "source": [
    "June = [20, 300]\n",
    "August = [25, 400]\n",
    "November = [23, 400]\n",
    "prices = [400, 400, 300]\n",
    "quantity = [20, 25, 23]\n",
    "c1 = np.array(June)\n",
    "c2 = np.array(August)\n",
    "c3 = np.array(November)\n",
    "x = np.array(prices)\n",
    "y = np.array(quantity)\n",
    "weighted_mean = (np.prod(c1) + np.prod(c2) + np.prod(c3) ) /np.sum(y)\n",
    "print(f\"The average price of shares {weighted_mean:.2f}\")\n"
   ]
  },
  {
   "cell_type": "code",
   "execution_count": 67,
   "metadata": {},
   "outputs": [
    {
     "name": "stdout",
     "output_type": "stream",
     "text": [
      "The average price of books 1.50\n"
     ]
    }
   ],
   "source": [
    "Paperback = [40, 1.0]\n",
    "Hard = [10, 3.5]\n",
    "prices = [1.0, 3.5]\n",
    "quantity = [40, 10]\n",
    "c1 = np.array(Paperback)\n",
    "c2 = np.array(Hard)\n",
    "x = np.array(prices)\n",
    "y = np.array(quantity)\n",
    "weighted_mean = (np.prod(c1) + np.prod(c2)) /np.sum(y)\n",
    "print(f\"The average price of books {weighted_mean:.2f}\")\n"
   ]
  },
  {
   "cell_type": "code",
   "execution_count": 69,
   "metadata": {},
   "outputs": [
    {
     "name": "stdout",
     "output_type": "stream",
     "text": [
      "The average salary of nurses 19.50\n"
     ]
    }
   ],
   "source": [
    "Aid = [50, 8 ]\n",
    "Prac_Nurses = [50, 20]\n",
    "Reg_Nurses = [100, 25]\n",
    "prices = [8, 20, 25]\n",
    "quantity = [100, 50, 50]\n",
    "c1 = np.array(Aid)\n",
    "c2 = np.array(Prac_Nurses)\n",
    "c3 = np.array(Reg_Nurses)\n",
    "x = np.array(prices)\n",
    "y = np.array(quantity)\n",
    "weighted_mean = (np.prod(c1) + np.prod(c2) + np.prod(c3) ) /np.sum(y)\n",
    "print(f\"The average salary of nurses {weighted_mean:.2f}\")\n"
   ]
  },
  {
   "cell_type": "code",
   "execution_count": 70,
   "metadata": {},
   "outputs": [
    {
     "name": "stdout",
     "output_type": "stream",
     "text": [
      "The average hourly earn of Miss Atterney 143.75$\n"
     ]
    }
   ],
   "source": [
    "Researching = [10, 100 ]\n",
    "Consultation = [10, 75]\n",
    "Write_brief = [20, 200]\n",
    "prices = [100, 75, 200]\n",
    "quantity = [10, 10, 20]\n",
    "c1 = np.array(Researching)\n",
    "c2 = np.array(Consultation)\n",
    "c3 = np.array(Write_brief)\n",
    "x = np.array(prices)\n",
    "y = np.array(quantity)\n",
    "weighted_mean = (np.prod(c1) + np.prod(c2) + np.prod(c3) ) /np.sum(y)\n",
    "print(f\"The average hourly earn of Miss Atterney {weighted_mean:.2f}$\")\n"
   ]
  },
  {
   "cell_type": "code",
   "execution_count": 86,
   "metadata": {},
   "outputs": [
    {
     "name": "stdout",
     "output_type": "stream",
     "text": [
      "case1:50000.00 , case2:52500.00 , case3:52500.00 case4:.52777.777778\n"
     ]
    }
   ],
   "source": [
    "x_list = [30e3, 30e3, 45e3, 50e3, 50e3, 55e3, 55e3, 60e3, 75e3]\n",
    "x_list2 =  [30e3, 30e3, 45e3, 50e3, 50e3, 55e3, 55e3, 60e3, 100e3]\n",
    "x_arr = np.array(x_list)\n",
    "x_arr1 = x_arr+2500\n",
    "x_arr2 = x_arr+(x_arr*0.05)\n",
    "x_arr3 = np.array(x_list2)\n",
    "mean = np.sum(x_arr)/len(x_list)\n",
    "mean1 = np.sum(x_arr1)/len(x_list)\n",
    "mean2 = np.sum(x_arr2)/len(x_list)\n",
    "mean3 = np.sum(x_arr3)/len(x_list)\n",
    "print(\"case1:%.2f , case2:%.2f , case3:%.2f case4:.%2f\" %(mean,mean1,mean2,mean3))"
   ]
  },
  {
   "cell_type": "code",
   "execution_count": 80,
   "metadata": {},
   "outputs": [
    {
     "data": {
      "text/plain": [
       "100000.0"
      ]
     },
     "execution_count": 80,
     "metadata": {},
     "output_type": "execute_result"
    }
   ],
   "source": [
    "x_arr3"
   ]
  },
  {
   "cell_type": "code",
   "execution_count": 81,
   "metadata": {},
   "outputs": [
    {
     "data": {
      "text/plain": [
       "array([31500., 31500., 47250., 52500., 52500., 57750., 57750., 63000.,\n",
       "       78750.])"
      ]
     },
     "execution_count": 81,
     "metadata": {},
     "output_type": "execute_result"
    }
   ],
   "source": [
    "x_arr2"
   ]
  },
  {
   "cell_type": "code",
   "execution_count": 3,
   "metadata": {},
   "outputs": [],
   "source": [
    "import numpy as np"
   ]
  },
  {
   "cell_type": "code",
   "execution_count": 17,
   "metadata": {},
   "outputs": [
    {
     "data": {
      "text/plain": [
       "187800.0"
      ]
     },
     "execution_count": 17,
     "metadata": {},
     "output_type": "execute_result"
    }
   ],
   "source": [
    "x_list = np.array([3960, 4090, 3200, 3100, 2940, 3830, 4090, 4040, 3780])\n",
    "RANGE = max(x_list) - min(x_list)\n",
    "mean = np.sum(x_list)/len(x_list)\n",
    "variance = (x_list - mean)**2\n",
    "np.sum(variance)/len(x_list)\n"
   ]
  },
  {
   "cell_type": "code",
   "execution_count": null,
   "metadata": {},
   "outputs": [],
   "source": []
  }
 ],
 "metadata": {
  "kernelspec": {
   "display_name": "Python 3",
   "language": "python",
   "name": "python3"
  },
  "language_info": {
   "codemirror_mode": {
    "name": "ipython",
    "version": 3
   },
   "file_extension": ".py",
   "mimetype": "text/x-python",
   "name": "python",
   "nbconvert_exporter": "python",
   "pygments_lexer": "ipython3",
   "version": "3.8.3"
  }
 },
 "nbformat": 4,
 "nbformat_minor": 4
}

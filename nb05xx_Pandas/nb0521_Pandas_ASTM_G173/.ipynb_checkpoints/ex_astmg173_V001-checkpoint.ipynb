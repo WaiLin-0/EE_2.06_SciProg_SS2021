{
 "cells": [
  {
   "cell_type": "markdown",
   "metadata": {},
   "source": [
    "# ASTM G173-03 Solar Spectral Irradiance Standard #\n",
    "\n",
    "The exercises are covering \n",
    "1. reading from csv files with Pandas\n",
    "1. first impression of Pandas dataframes\n",
    "1. first impression of Pandas series\n",
    "\n",
    "Please download the file https://www.nrel.gov/grid/solar-resource/assets/data/astmg173.zip and **really unzip** it (right klick -> extract). Do not just change the directory into the compressed archive by clicking on it. \n",
    "\n",
    "Move the unpacked csv file **astmg173.csv** to the folder where your Jupyter Notebook is located."
   ]
  },
  {
   "cell_type": "code",
   "execution_count": 111,
   "metadata": {},
   "outputs": [],
   "source": [
    "filename = \"astmg173.csv\""
   ]
  },
  {
   "cell_type": "code",
   "execution_count": 112,
   "metadata": {},
   "outputs": [],
   "source": [
    "import pandas as pd"
   ]
  },
  {
   "cell_type": "code",
   "execution_count": null,
   "metadata": {},
   "outputs": [],
   "source": [
    "help(pd.read_csv)"
   ]
  },
  {
   "cell_type": "code",
   "execution_count": 114,
   "metadata": {},
   "outputs": [
    {
     "name": "stdout",
     "output_type": "stream",
     "text": [
      "Title:  ASTM G173-03 Reference Spectra Derived from SMARTS v. 2.9.2\n",
      "Header line:  Wvlgth nm,Etr W*m-2*nm-1,Global tilt  W*m-2*nm-1,Direct+circumsolar W*m-2*nm-1\n"
     ]
    }
   ],
   "source": [
    "infile = open(filename,\"r\")\n",
    "\n",
    "title = infile.readline().strip()\n",
    "headline = infile.readline().strip()\n",
    "\n",
    "print(\"Title: \", title)\n",
    "print(\"Header line: \", headline)\n",
    "\n",
    "infile.close()"
   ]
  },
  {
   "cell_type": "markdown",
   "metadata": {},
   "source": [
    "### pd.read_csv() reports a Pandas data frame ###\n",
    "\n",
    "**Exercise:** Read the help of pd.read_csv and study the options. What do the keyword arguments names and skiprows do?"
   ]
  },
  {
   "cell_type": "code",
   "execution_count": 115,
   "metadata": {},
   "outputs": [],
   "source": [
    "col_names = [\"Col 0\",\"Col 1\",\"Col 2\", \"Col 3\"]\n",
    "units = [\"unit 0\", \"unit 1\", \"unit 2\", \"unit 3\"]"
   ]
  },
  {
   "cell_type": "code",
   "execution_count": 118,
   "metadata": {},
   "outputs": [
    {
     "data": {
      "text/html": [
       "<div>\n",
       "<style scoped>\n",
       "    .dataframe tbody tr th:only-of-type {\n",
       "        vertical-align: middle;\n",
       "    }\n",
       "\n",
       "    .dataframe tbody tr th {\n",
       "        vertical-align: top;\n",
       "    }\n",
       "\n",
       "    .dataframe thead th {\n",
       "        text-align: right;\n",
       "    }\n",
       "</style>\n",
       "<table border=\"1\" class=\"dataframe\">\n",
       "  <thead>\n",
       "    <tr style=\"text-align: right;\">\n",
       "      <th></th>\n",
       "      <th>Col 0</th>\n",
       "      <th>Col 1</th>\n",
       "      <th>Col 2</th>\n",
       "      <th>Col 3</th>\n",
       "    </tr>\n",
       "  </thead>\n",
       "  <tbody>\n",
       "    <tr>\n",
       "      <th>0</th>\n",
       "      <td>280.0</td>\n",
       "      <td>0.082</td>\n",
       "      <td>4.730900e-23</td>\n",
       "      <td>2.536100e-26</td>\n",
       "    </tr>\n",
       "    <tr>\n",
       "      <th>1</th>\n",
       "      <td>280.5</td>\n",
       "      <td>0.099</td>\n",
       "      <td>1.230700e-21</td>\n",
       "      <td>1.091700e-24</td>\n",
       "    </tr>\n",
       "    <tr>\n",
       "      <th>2</th>\n",
       "      <td>281.0</td>\n",
       "      <td>0.150</td>\n",
       "      <td>5.689500e-21</td>\n",
       "      <td>6.125300e-24</td>\n",
       "    </tr>\n",
       "    <tr>\n",
       "      <th>3</th>\n",
       "      <td>281.5</td>\n",
       "      <td>0.212</td>\n",
       "      <td>1.566200e-19</td>\n",
       "      <td>2.747900e-22</td>\n",
       "    </tr>\n",
       "    <tr>\n",
       "      <th>4</th>\n",
       "      <td>282.0</td>\n",
       "      <td>0.267</td>\n",
       "      <td>1.194600e-18</td>\n",
       "      <td>2.834600e-21</td>\n",
       "    </tr>\n",
       "  </tbody>\n",
       "</table>\n",
       "</div>"
      ],
      "text/plain": [
       "   Col 0  Col 1         Col 2         Col 3\n",
       "0  280.0  0.082  4.730900e-23  2.536100e-26\n",
       "1  280.5  0.099  1.230700e-21  1.091700e-24\n",
       "2  281.0  0.150  5.689500e-21  6.125300e-24\n",
       "3  281.5  0.212  1.566200e-19  2.747900e-22\n",
       "4  282.0  0.267  1.194600e-18  2.834600e-21"
      ]
     },
     "execution_count": 118,
     "metadata": {},
     "output_type": "execute_result"
    }
   ],
   "source": [
    "df = pd.read_csv(filename,skiprows = [0,1], names = headers)\n",
    "df.head()"
   ]
  },
  {
   "cell_type": "markdown",
   "metadata": {},
   "source": [
    "**Exercise**\n",
    "\n",
    "The 1st row of the original csv data file contains the title (\"metadata\" or \"background info\").<br>\n",
    "The 2nd row contains column header information. Column names and units are mingled.<br>\n",
    "Both lines are already read earlier from the file (see previous code cells).\n",
    "\n",
    "Generate two new lists named `col_names` and `units` automatically from the 2nd line in the csv file. Use string operations to sprit the line and assign the elements to the two new lists."
   ]
  },
  {
   "cell_type": "markdown",
   "metadata": {},
   "source": [
    "### Anatomy of a Pandas Data Frame ###\n",
    "\n",
    "A dataframe consists of three major elements: columns, index, values.\n",
    "\n",
    "Please take note of the structures and the datatypes!"
   ]
  },
  {
   "cell_type": "code",
   "execution_count": 120,
   "metadata": {},
   "outputs": [
    {
     "name": "stdout",
     "output_type": "stream",
     "text": [
      "(1) df.columns:  Index(['Col 0', 'Col 1', 'Col 2', 'Col 3'], dtype='object')\n",
      "(2) df.index:  RangeIndex(start=0, stop=2002, step=1)\n",
      "(3) type(df.values):  <class 'numpy.ndarray'>\n",
      "(4) df.head(7): (plots the first 7 rows of the dataframe)\n"
     ]
    },
    {
     "data": {
      "text/html": [
       "<div>\n",
       "<style scoped>\n",
       "    .dataframe tbody tr th:only-of-type {\n",
       "        vertical-align: middle;\n",
       "    }\n",
       "\n",
       "    .dataframe tbody tr th {\n",
       "        vertical-align: top;\n",
       "    }\n",
       "\n",
       "    .dataframe thead th {\n",
       "        text-align: right;\n",
       "    }\n",
       "</style>\n",
       "<table border=\"1\" class=\"dataframe\">\n",
       "  <thead>\n",
       "    <tr style=\"text-align: right;\">\n",
       "      <th></th>\n",
       "      <th>Col 0</th>\n",
       "      <th>Col 1</th>\n",
       "      <th>Col 2</th>\n",
       "      <th>Col 3</th>\n",
       "    </tr>\n",
       "  </thead>\n",
       "  <tbody>\n",
       "    <tr>\n",
       "      <th>0</th>\n",
       "      <td>280.0</td>\n",
       "      <td>0.082</td>\n",
       "      <td>4.730900e-23</td>\n",
       "      <td>2.536100e-26</td>\n",
       "    </tr>\n",
       "    <tr>\n",
       "      <th>1</th>\n",
       "      <td>280.5</td>\n",
       "      <td>0.099</td>\n",
       "      <td>1.230700e-21</td>\n",
       "      <td>1.091700e-24</td>\n",
       "    </tr>\n",
       "    <tr>\n",
       "      <th>2</th>\n",
       "      <td>281.0</td>\n",
       "      <td>0.150</td>\n",
       "      <td>5.689500e-21</td>\n",
       "      <td>6.125300e-24</td>\n",
       "    </tr>\n",
       "    <tr>\n",
       "      <th>3</th>\n",
       "      <td>281.5</td>\n",
       "      <td>0.212</td>\n",
       "      <td>1.566200e-19</td>\n",
       "      <td>2.747900e-22</td>\n",
       "    </tr>\n",
       "    <tr>\n",
       "      <th>4</th>\n",
       "      <td>282.0</td>\n",
       "      <td>0.267</td>\n",
       "      <td>1.194600e-18</td>\n",
       "      <td>2.834600e-21</td>\n",
       "    </tr>\n",
       "    <tr>\n",
       "      <th>5</th>\n",
       "      <td>282.5</td>\n",
       "      <td>0.303</td>\n",
       "      <td>4.543600e-18</td>\n",
       "      <td>1.327100e-20</td>\n",
       "    </tr>\n",
       "    <tr>\n",
       "      <th>6</th>\n",
       "      <td>283.0</td>\n",
       "      <td>0.325</td>\n",
       "      <td>1.845200e-17</td>\n",
       "      <td>6.764600e-20</td>\n",
       "    </tr>\n",
       "  </tbody>\n",
       "</table>\n",
       "</div>"
      ],
      "text/plain": [
       "   Col 0  Col 1         Col 2         Col 3\n",
       "0  280.0  0.082  4.730900e-23  2.536100e-26\n",
       "1  280.5  0.099  1.230700e-21  1.091700e-24\n",
       "2  281.0  0.150  5.689500e-21  6.125300e-24\n",
       "3  281.5  0.212  1.566200e-19  2.747900e-22\n",
       "4  282.0  0.267  1.194600e-18  2.834600e-21\n",
       "5  282.5  0.303  4.543600e-18  1.327100e-20\n",
       "6  283.0  0.325  1.845200e-17  6.764600e-20"
      ]
     },
     "execution_count": 120,
     "metadata": {},
     "output_type": "execute_result"
    }
   ],
   "source": [
    "print(\"(1) df.columns: \", df.columns)\n",
    "print(\"(2) df.index: \", df.index)\n",
    "print(\"(3) type(df.values): \",type(df.values))\n",
    "print(\"(4) df.head(7): (plots the first 7 rows of the dataframe)\")\n",
    "df.head(7)"
   ]
  },
  {
   "cell_type": "markdown",
   "metadata": {},
   "source": [
    "Replace the column headers with the names listed in your `col_names` list. "
   ]
  },
  {
   "cell_type": "markdown",
   "metadata": {},
   "source": [
    "### Pandas Data Frames and Series are very powerful. ###\n",
    "\n",
    "**google it** to get an idea of Pandas capabilities.\n",
    "\n"
   ]
  },
  {
   "cell_type": "markdown",
   "metadata": {},
   "source": [
    "A **Pandas dataframe column** is a **Pandas series**, with which you can do things like with numpy arrays, e.g.:"
   ]
  },
  {
   "cell_type": "code",
   "execution_count": 124,
   "metadata": {},
   "outputs": [
    {
     "name": "stdout",
     "output_type": "stream",
     "text": [
      "type(ser1):  <class 'pandas.core.series.Series'>\n",
      "type(ser3):  <class 'pandas.core.series.Series'>\n",
      "ser3.head(7):\n",
      "0   -2.113763e+22\n",
      "1   -8.125457e+20\n",
      "2   -1.757624e+20\n",
      "3   -6.384881e+18\n",
      "4   -8.371003e+17\n",
      "5   -2.200898e+17\n",
      "6   -5.419467e+16\n",
      "dtype: float64\n"
     ]
    }
   ],
   "source": [
    "ser1 = df[\"Col 1\"]\n",
    "ser2 = df[\"Col 2\"]\n",
    "print(\"type(ser1): \", type(ser1))\n",
    "\n",
    "# any random operation, just an example ...\n",
    "ser3 = 2*ser1**2 - 1/ser2 \n",
    "\n",
    "print(\"type(ser3): \", type(ser3))\n",
    "print(\"ser3.head(7):\")\n",
    "print(ser3.head(7))\n"
   ]
  },
  {
   "cell_type": "markdown",
   "metadata": {},
   "source": [
    "**Exercise:** <br>\n",
    "Create a second dataframe by **copying** the first dataframe. <br> \n",
    "`df2 = df` **does not do the job!** It just creates a reference to the first dataframe. <br>\n",
    "To really copy data into another memory location you have to call<br>\n",
    "`df2 = df.copy()`\n",
    "\n",
    "Now use the `col_names` list to rename the columns with useful names.\n",
    "\n",
    "What is an index? Try to make the Wavelength column the index of `df2`.  "
   ]
  },
  {
   "cell_type": "code",
   "execution_count": null,
   "metadata": {},
   "outputs": [],
   "source": [
    "df2 = df.copy()\n",
    "# go on ... \n",
    "\n",
    "print ('type(df2[\"Etr\"]): ', type(df2[\"Etr\"]))"
   ]
  },
  {
   "cell_type": "markdown",
   "metadata": {},
   "source": [
    "#### Let's plot ####"
   ]
  },
  {
   "cell_type": "code",
   "execution_count": 121,
   "metadata": {},
   "outputs": [],
   "source": [
    "%matplotlib inline\n",
    "import matplotlib as mpl\n",
    "import matplotlib.pyplot as plt"
   ]
  },
  {
   "cell_type": "code",
   "execution_count": 66,
   "metadata": {},
   "outputs": [
    {
     "data": {
      "image/png": "[encoded data removed]",
      "text/plain": [
       "<Figure size 432x288 with 1 Axes>"
      ]
     },
     "metadata": {
      "needs_background": "light"
     },
     "output_type": "display_data"
    }
   ],
   "source": [
    "df.plot(x = \"Col 0\", y = [\"Col 1\", \"Col 2\", \"Col 3\"])\n",
    "plt.show()"
   ]
  },
  {
   "cell_type": "markdown",
   "metadata": {},
   "source": [
    "**Exercise:** Do the same with `df2` with the new series names ( = column headers)"
   ]
  },
  {
   "cell_type": "markdown",
   "metadata": {},
   "source": [
    "To gain more control the `df.plot()` can be embedded in a `plt.figure()`. The trick is to pass the axis object (here named `ax1`) to the df.plot function."
   ]
  },
  {
   "cell_type": "code",
   "execution_count": 125,
   "metadata": {},
   "outputs": [
    {
     "data": {
      "image/png": "[encoded data removed]",
      "text/plain": [
       "<Figure size 600x450 with 1 Axes>"
      ]
     },
     "metadata": {
      "needs_background": "light"
     },
     "output_type": "display_data"
    }
   ],
   "source": [
    "fig = plt.figure(figsize = (4,3), dpi = 150)\n",
    "ax1 = fig.add_subplot(111)\n",
    "h = df.plot(x = \"Col 0\", y = [\"Col 1\", \"Col 2\", \"Col 3\"], ax = ax1)\n",
    "ax1.grid(True)\n",
    "plt.show()"
   ]
  },
  {
   "cell_type": "markdown",
   "metadata": {},
   "source": [
    "**Exercise:**<br>\n",
    "Call `df2[\"Etr\"].plot()`  - or whatever the new column name of the extraterrestial irrandiance is - without any arguments.<br>\n",
    "Isn't it cool? `df2[\"Etr\"]` is a Pandas series object. It brings its own (simple) plot function with it.<br> \n",
    "Note the x-axis scaling. By default (with no arguments passed to .plot()) it plots the series values (here: irradiance) against the index of the series (here: wavelength)."
   ]
  },
  {
   "cell_type": "markdown",
   "metadata": {},
   "source": [
    "**Exercise:** Compute the spectral transmissivity from the data. Which columns would you use?"
   ]
  },
  {
   "cell_type": "markdown",
   "metadata": {},
   "source": [
    "**Exercise:** Integrate the three spectral irradiance curves numerically with the trapezoid method."
   ]
  },
  {
   "cell_type": "code",
   "execution_count": null,
   "metadata": {},
   "outputs": [],
   "source": []
  }
 ],
 "metadata": {
  "kernelspec": {
   "display_name": "Python 3",
   "language": "python",
   "name": "python3"
  },
  "language_info": {
   "codemirror_mode": {
    "name": "ipython",
    "version": 3
   },
   "file_extension": ".py",
   "mimetype": "text/x-python",
   "name": "python",
   "nbconvert_exporter": "python",
   "pygments_lexer": "ipython3",
   "version": "3.6.7"
  }
 },
 "nbformat": 4,
 "nbformat_minor": 2
}

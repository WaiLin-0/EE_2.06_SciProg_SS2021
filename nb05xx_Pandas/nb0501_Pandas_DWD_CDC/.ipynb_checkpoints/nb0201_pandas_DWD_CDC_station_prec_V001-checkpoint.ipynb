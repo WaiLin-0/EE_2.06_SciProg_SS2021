{
 "cells": [
  {
   "cell_type": "markdown",
   "metadata": {},
   "source": [
    "# Read Files from DWD CDC #"
   ]
  },
  {
   "cell_type": "markdown",
   "metadata": {},
   "source": [
    "## Read the list of stations providing hourly precipitation measurements # \n",
    "\n",
    "Get the file from here:\n",
    "\n",
    "ftp://ftp-cdc.dwd.de/pub/CDC/observations_germany/climate/hourly/precipitation/recent/RR_Stundenwerte_Beschreibung_Stationen.txt"
   ]
  },
  {
   "cell_type": "markdown",
   "metadata": {},
   "source": [
    "Check whether the downloaded file is in your current Jupyter Notebook work directory."
   ]
  },
  {
   "cell_type": "code",
   "execution_count": 3,
   "metadata": {},
   "outputs": [
    {
     "data": {
      "text/plain": [
       "['.ipynb_checkpoints',\n",
       " 'nb0201_pandas_DWD_CDC_station_prec_V001.ipynb',\n",
       " 'NRW.qgs',\n",
       " 'NRW.qgz',\n",
       " 'RR_Stundenwerte_Beschreibung_Stationen.txt',\n",
       " 'station_info_diy.csv',\n",
       " 'station_into.csv',\n",
       " 'stundenwerte_RR_00989_akt',\n",
       " 'stundenwerte_RR_00989_akt.zip',\n",
       " 'stundenwerte_RR_13670_akt',\n",
       " 'stundenwerte_RR_13670_akt.zip']"
      ]
     },
     "execution_count": 3,
     "metadata": {},
     "output_type": "execute_result"
    }
   ],
   "source": [
    "import os\n",
    "os.listdir()"
   ]
  },
  {
   "cell_type": "code",
   "execution_count": 4,
   "metadata": {},
   "outputs": [],
   "source": [
    "# This converts substrings to meaningful data types, e.g \"3.14159\" (string) -> 3.14159 (float)\n",
    "def myparser(r):\n",
    "    station_id = int(r[0:5].strip())\n",
    "    from_date = r[5:14].strip()\n",
    "    to_date = r[14:23].strip()\n",
    "    altitude = float(r[23:38].strip())\n",
    "    lat = float(r[38:50].strip())\n",
    "    lon = float(r[50:61].strip())\n",
    "    station_name = r[61:102].strip()\n",
    "    fed_state = r[102:].strip()\n",
    "    return station_id, station_name, lat, lon, altitude, from_date, to_date, fed_state "
   ]
  },
  {
   "cell_type": "code",
   "execution_count": 5,
   "metadata": {},
   "outputs": [],
   "source": [
    "# This just splits the string of fixed format columns\n",
    "def myparser2(r):\n",
    "    station_id   =     r[0:5].strip()\n",
    "    from_date    =    r[5:14].strip()\n",
    "    to_date      =   r[14:23].strip()\n",
    "    altitude     =   r[23:38].strip()\n",
    "    lat          =   r[38:50].strip()\n",
    "    lon          =   r[50:61].strip()\n",
    "    station_name =  r[61:102].strip()\n",
    "    fed_state    = r[102:].strip()\n",
    "    return station_id, station_name, lat, lon, altitude, from_date, to_date, fed_state "
   ]
  },
  {
   "cell_type": "code",
   "execution_count": 6,
   "metadata": {},
   "outputs": [],
   "source": [
    "# read all lines in one go into a list of strings\n",
    "filename = 'RR_Stundenwerte_Beschreibung_Stationen.txt'\n",
    "file = open(filename,\"r\")\n",
    "rows = file.readlines()\n",
    "file.close()"
   ]
  },
  {
   "cell_type": "code",
   "execution_count": 7,
   "metadata": {},
   "outputs": [],
   "source": [
    "# create a list for the output data\n",
    "# first row contains column names\n",
    "slist = [\"station_id;station_name;lat;lon;altitude;from_date;to_date;fed_state\"]\n",
    "for r in rows[2:]:\n",
    "    station_id, station_name, lat, lon, altitude, from_date, to_date, fed_state = myparser2(r)\n",
    "    s = \";\".join([station_id, station_name, lat, lon, altitude, from_date, to_date, fed_state])\n",
    "    # more complex, in case you need quotation marks in the output strings\n",
    "    #s = station_id + \";'\" + station_name + \"';\" + lat + \";\" + lon + \";\"  + altitude + \";'\" + from_date +\"';'\" +to_date + \"';'\" + fed_state + r\"'\"\n",
    "    slist.append(s)"
   ]
  },
  {
   "cell_type": "code",
   "execution_count": 8,
   "metadata": {},
   "outputs": [
    {
     "data": {
      "text/plain": [
       "['station_id;station_name;lat;lon;altitude;from_date;to_date;fed_state',\n",
       " '00003;Aachen;50.7827;6.0941;202;19500401;20110401;Nordrhein-Westfalen',\n",
       " '00005;Aachen-Merzbrück;50.8167;6.1833;190;19790102;19950630;Nordrhein-Westfalen',\n",
       " '00020;Abtsgmünd-Untergröningen;48.9220;9.9129;432;20040813;20190623;Baden-Württemberg',\n",
       " '00029;Adelsdorf (Kläranlage);49.7175;10.9101;260;20060110;20190623;Bayern']"
      ]
     },
     "execution_count": 8,
     "metadata": {},
     "output_type": "execute_result"
    }
   ],
   "source": [
    "slist[0:5]"
   ]
  },
  {
   "cell_type": "code",
   "execution_count": 9,
   "metadata": {},
   "outputs": [],
   "source": [
    "outfile = open(\"station_info_diy.csv\",\"w\")\n",
    "outfile.writelines(slist)\n",
    "outfile.close()"
   ]
  },
  {
   "cell_type": "code",
   "execution_count": 10,
   "metadata": {},
   "outputs": [],
   "source": [
    "# add \"\\n\" to the end of each string \n",
    "with open('station_into.csv', 'w') as f:\n",
    "    f.write('\\n'.join(slist))\n",
    "    \n",
    "# or\n",
    "\n",
    "#with open('station_into.csv', 'w') as f:\n",
    "#    f.writelines(\"%s\\n\" % l for l in slist)\n"
   ]
  },
  {
   "cell_type": "code",
   "execution_count": 11,
   "metadata": {},
   "outputs": [
    {
     "data": {
      "text/plain": [
       "'b---c---d---e'"
      ]
     },
     "execution_count": 11,
     "metadata": {},
     "output_type": "execute_result"
    }
   ],
   "source": [
    "# Side note: how join works\n",
    "\"---\".join([\"b\",\"c\",\"d\",\"e\"])"
   ]
  },
  {
   "cell_type": "markdown",
   "metadata": {},
   "source": [
    "# The Pandas Way #\n",
    "\n",
    "https://pandas.pydata.org/pandas-docs/stable/reference/api/pandas.read_fwf.html"
   ]
  },
  {
   "cell_type": "code",
   "execution_count": 18,
   "metadata": {},
   "outputs": [],
   "source": [
    "import pandas as pd"
   ]
  },
  {
   "cell_type": "markdown",
   "metadata": {},
   "source": [
    "## Read the station info file ##"
   ]
  },
  {
   "cell_type": "code",
   "execution_count": 19,
   "metadata": {},
   "outputs": [
    {
     "data": {
      "text/plain": [
       "['Stations_id',\n",
       " 'von_datum',\n",
       " 'bis_datum',\n",
       " 'Stationshoehe',\n",
       " 'geoBreite',\n",
       " 'geoLaenge',\n",
       " 'Stationsname',\n",
       " 'Bundesland']"
      ]
     },
     "execution_count": 19,
     "metadata": {},
     "output_type": "execute_result"
    }
   ],
   "source": [
    "filename = 'RR_Stundenwerte_Beschreibung_Stationen.txt'\n",
    "file = open(filename,\"r\")\n",
    "r = file.readline()\n",
    "file.close()\n",
    "headers = r.split()\n",
    "headers"
   ]
  },
  {
   "cell_type": "code",
   "execution_count": 20,
   "metadata": {},
   "outputs": [],
   "source": [
    "station_df = pd.read_fwf(filename,skiprows=[0,1], names = headers)"
   ]
  },
  {
   "cell_type": "code",
   "execution_count": 21,
   "metadata": {},
   "outputs": [
    {
     "data": {
      "text/html": [
       "<div>\n",
       "<style scoped>\n",
       "    .dataframe tbody tr th:only-of-type {\n",
       "        vertical-align: middle;\n",
       "    }\n",
       "\n",
       "    .dataframe tbody tr th {\n",
       "        vertical-align: top;\n",
       "    }\n",
       "\n",
       "    .dataframe thead th {\n",
       "        text-align: right;\n",
       "    }\n",
       "</style>\n",
       "<table border=\"1\" class=\"dataframe\">\n",
       "  <thead>\n",
       "    <tr style=\"text-align: right;\">\n",
       "      <th></th>\n",
       "      <th>Stations_id</th>\n",
       "      <th>von_datum</th>\n",
       "      <th>bis_datum</th>\n",
       "      <th>Stationshoehe</th>\n",
       "      <th>geoBreite</th>\n",
       "      <th>geoLaenge</th>\n",
       "      <th>Stationsname</th>\n",
       "      <th>Bundesland</th>\n",
       "    </tr>\n",
       "  </thead>\n",
       "  <tbody>\n",
       "    <tr>\n",
       "      <th>0</th>\n",
       "      <td>3</td>\n",
       "      <td>19500401</td>\n",
       "      <td>20110401</td>\n",
       "      <td>202</td>\n",
       "      <td>50.7827</td>\n",
       "      <td>6.0941</td>\n",
       "      <td>Aachen</td>\n",
       "      <td>Nordrhein-Westfalen</td>\n",
       "    </tr>\n",
       "    <tr>\n",
       "      <th>1</th>\n",
       "      <td>5</td>\n",
       "      <td>19790102</td>\n",
       "      <td>19950630</td>\n",
       "      <td>190</td>\n",
       "      <td>50.8167</td>\n",
       "      <td>6.1833</td>\n",
       "      <td>Aachen-Merzbrück</td>\n",
       "      <td>Nordrhein-Westfalen</td>\n",
       "    </tr>\n",
       "    <tr>\n",
       "      <th>2</th>\n",
       "      <td>20</td>\n",
       "      <td>20040813</td>\n",
       "      <td>20190623</td>\n",
       "      <td>432</td>\n",
       "      <td>48.9220</td>\n",
       "      <td>9.9129</td>\n",
       "      <td>Abtsgmünd-Untergröningen</td>\n",
       "      <td>Baden-Württemberg</td>\n",
       "    </tr>\n",
       "    <tr>\n",
       "      <th>3</th>\n",
       "      <td>29</td>\n",
       "      <td>20060110</td>\n",
       "      <td>20190623</td>\n",
       "      <td>260</td>\n",
       "      <td>49.7175</td>\n",
       "      <td>10.9101</td>\n",
       "      <td>Adelsdorf (Kläranlage)</td>\n",
       "      <td>Bayern</td>\n",
       "    </tr>\n",
       "    <tr>\n",
       "      <th>4</th>\n",
       "      <td>44</td>\n",
       "      <td>19790101</td>\n",
       "      <td>20190623</td>\n",
       "      <td>44</td>\n",
       "      <td>52.9336</td>\n",
       "      <td>8.2370</td>\n",
       "      <td>Großenkneten</td>\n",
       "      <td>Niedersachsen</td>\n",
       "    </tr>\n",
       "  </tbody>\n",
       "</table>\n",
       "</div>"
      ],
      "text/plain": [
       "   Stations_id  von_datum  bis_datum  Stationshoehe  geoBreite  geoLaenge  \\\n",
       "0            3   19500401   20110401            202    50.7827     6.0941   \n",
       "1            5   19790102   19950630            190    50.8167     6.1833   \n",
       "2           20   20040813   20190623            432    48.9220     9.9129   \n",
       "3           29   20060110   20190623            260    49.7175    10.9101   \n",
       "4           44   19790101   20190623             44    52.9336     8.2370   \n",
       "\n",
       "               Stationsname           Bundesland  \n",
       "0                    Aachen  Nordrhein-Westfalen  \n",
       "1          Aachen-Merzbrück  Nordrhein-Westfalen  \n",
       "2  Abtsgmünd-Untergröningen    Baden-Württemberg  \n",
       "3    Adelsdorf (Kläranlage)               Bayern  \n",
       "4              Großenkneten        Niedersachsen  "
      ]
     },
     "execution_count": 21,
     "metadata": {},
     "output_type": "execute_result"
    }
   ],
   "source": [
    "station_df.head()"
   ]
  },
  {
   "cell_type": "markdown",
   "metadata": {},
   "source": [
    "### Rename columns: DE -> EN ###"
   ]
  },
  {
   "cell_type": "code",
   "execution_count": 22,
   "metadata": {},
   "outputs": [
    {
     "data": {
      "text/plain": [
       "{'Stations_id': 'station_id',\n",
       " 'von_datum': 'from_date',\n",
       " 'bis_datum': 'to_date',\n",
       " 'Stationshoehe': 'altitude',\n",
       " 'geoBreite': 'lat',\n",
       " 'geoLaenge': 'lon',\n",
       " 'Stationsname': 'station_name',\n",
       " 'Bundesland': 'fed_state'}"
      ]
     },
     "execution_count": 22,
     "metadata": {},
     "output_type": "execute_result"
    }
   ],
   "source": [
    "rename_dict = {}\n",
    "old_headers = list(station_df.columns)\n",
    "new_headers = [\"station_id\",\"from_date\",\"to_date\",\"altitude\",\"lat\",\"lon\",\"station_name\",\"fed_state\"]\n",
    "for o,n in zip (old_headers, new_headers):\n",
    "    rename_dict[o] = n\n",
    "    \n",
    "rename_dict"
   ]
  },
  {
   "cell_type": "code",
   "execution_count": 23,
   "metadata": {},
   "outputs": [
    {
     "data": {
      "text/html": [
       "<div>\n",
       "<style scoped>\n",
       "    .dataframe tbody tr th:only-of-type {\n",
       "        vertical-align: middle;\n",
       "    }\n",
       "\n",
       "    .dataframe tbody tr th {\n",
       "        vertical-align: top;\n",
       "    }\n",
       "\n",
       "    .dataframe thead th {\n",
       "        text-align: right;\n",
       "    }\n",
       "</style>\n",
       "<table border=\"1\" class=\"dataframe\">\n",
       "  <thead>\n",
       "    <tr style=\"text-align: right;\">\n",
       "      <th></th>\n",
       "      <th>station_id</th>\n",
       "      <th>from_date</th>\n",
       "      <th>to_date</th>\n",
       "      <th>altitude</th>\n",
       "      <th>lat</th>\n",
       "      <th>lon</th>\n",
       "      <th>station_name</th>\n",
       "      <th>fed_state</th>\n",
       "    </tr>\n",
       "  </thead>\n",
       "  <tbody>\n",
       "    <tr>\n",
       "      <th>0</th>\n",
       "      <td>3</td>\n",
       "      <td>19500401</td>\n",
       "      <td>20110401</td>\n",
       "      <td>202</td>\n",
       "      <td>50.7827</td>\n",
       "      <td>6.0941</td>\n",
       "      <td>Aachen</td>\n",
       "      <td>Nordrhein-Westfalen</td>\n",
       "    </tr>\n",
       "    <tr>\n",
       "      <th>1</th>\n",
       "      <td>5</td>\n",
       "      <td>19790102</td>\n",
       "      <td>19950630</td>\n",
       "      <td>190</td>\n",
       "      <td>50.8167</td>\n",
       "      <td>6.1833</td>\n",
       "      <td>Aachen-Merzbrück</td>\n",
       "      <td>Nordrhein-Westfalen</td>\n",
       "    </tr>\n",
       "    <tr>\n",
       "      <th>2</th>\n",
       "      <td>20</td>\n",
       "      <td>20040813</td>\n",
       "      <td>20190623</td>\n",
       "      <td>432</td>\n",
       "      <td>48.9220</td>\n",
       "      <td>9.9129</td>\n",
       "      <td>Abtsgmünd-Untergröningen</td>\n",
       "      <td>Baden-Württemberg</td>\n",
       "    </tr>\n",
       "    <tr>\n",
       "      <th>3</th>\n",
       "      <td>29</td>\n",
       "      <td>20060110</td>\n",
       "      <td>20190623</td>\n",
       "      <td>260</td>\n",
       "      <td>49.7175</td>\n",
       "      <td>10.9101</td>\n",
       "      <td>Adelsdorf (Kläranlage)</td>\n",
       "      <td>Bayern</td>\n",
       "    </tr>\n",
       "    <tr>\n",
       "      <th>4</th>\n",
       "      <td>44</td>\n",
       "      <td>19790101</td>\n",
       "      <td>20190623</td>\n",
       "      <td>44</td>\n",
       "      <td>52.9336</td>\n",
       "      <td>8.2370</td>\n",
       "      <td>Großenkneten</td>\n",
       "      <td>Niedersachsen</td>\n",
       "    </tr>\n",
       "  </tbody>\n",
       "</table>\n",
       "</div>"
      ],
      "text/plain": [
       "   station_id  from_date   to_date  altitude      lat      lon  \\\n",
       "0           3   19500401  20110401       202  50.7827   6.0941   \n",
       "1           5   19790102  19950630       190  50.8167   6.1833   \n",
       "2          20   20040813  20190623       432  48.9220   9.9129   \n",
       "3          29   20060110  20190623       260  49.7175  10.9101   \n",
       "4          44   19790101  20190623        44  52.9336   8.2370   \n",
       "\n",
       "               station_name            fed_state  \n",
       "0                    Aachen  Nordrhein-Westfalen  \n",
       "1          Aachen-Merzbrück  Nordrhein-Westfalen  \n",
       "2  Abtsgmünd-Untergröningen    Baden-Württemberg  \n",
       "3    Adelsdorf (Kläranlage)               Bayern  \n",
       "4              Großenkneten        Niedersachsen  "
      ]
     },
     "execution_count": 23,
     "metadata": {},
     "output_type": "execute_result"
    }
   ],
   "source": [
    "station_df.rename(rename_dict, axis='columns', inplace = True)\n",
    "station_df.head()"
   ]
  },
  {
   "cell_type": "markdown",
   "metadata": {},
   "source": [
    "## Let us work on actual precipitation rate data! ##\n",
    "\n",
    "Get the zip from here:\n",
    "\n",
    "ftp://ftp-cdc.dwd.de/pub/CDC/observations_germany/climate/hourly/precipitation/recent/stundenwerte_RR_13670_akt.zip\n",
    "\n",
    "Save the zip in the directory where the station info file is located.\n",
    "\n",
    "**Really unzip it!** <br>\n",
    "**Right click** on the zip file in the explorer and **extract it to the (new) folder \"stundenwerte_RR_13670_akt\"**. There are several files in the archive being extracted to the new folder. Check it. You should see the file **similar** (not the same) to 'produkt_rr_stunde_20171222_20190624_13670.txt'"
   ]
  },
  {
   "cell_type": "code",
   "execution_count": 24,
   "metadata": {},
   "outputs": [
    {
     "data": {
      "text/plain": [
       "['Metadaten_Fehlwerte_Gesamt_13670.html',\n",
       " 'Metadaten_Fehlwerte_Gesamt_13670.txt',\n",
       " 'Metadaten_Geographie_13670.txt',\n",
       " 'Metadaten_Geraete_Niederschlagshoehe_13670.html',\n",
       " 'Metadaten_Geraete_Niederschlagshoehe_13670.txt',\n",
       " 'Metadaten_Parameter_rr_stunde_13670.html',\n",
       " 'Metadaten_Parameter_rr_stunde_13670.txt',\n",
       " 'Metadaten_Stationsname_13670.html',\n",
       " 'Metadaten_Stationsname_13670.txt',\n",
       " 'produkt_rr_stunde_20171222_20190624_13670.txt']"
      ]
     },
     "execution_count": 24,
     "metadata": {},
     "output_type": "execute_result"
    }
   ],
   "source": [
    "os.listdir(\"stundenwerte_RR_13670_akt\")"
   ]
  },
  {
   "cell_type": "markdown",
   "metadata": {},
   "source": [
    "**ATTENTION!** The file name changes with time! The last measurement time of the precipitation time series is part of the file name!"
   ]
  },
  {
   "cell_type": "code",
   "execution_count": 25,
   "metadata": {},
   "outputs": [],
   "source": [
    "fname1 = \"stundenwerte_RR_13670_akt/produkt_rr_stunde_20171222_20190624_13670.txt\"\n",
    "rr1_df = pd.read_csv(fname1, sep = \";\")"
   ]
  },
  {
   "cell_type": "code",
   "execution_count": 26,
   "metadata": {},
   "outputs": [
    {
     "data": {
      "text/html": [
       "<div>\n",
       "<style scoped>\n",
       "    .dataframe tbody tr th:only-of-type {\n",
       "        vertical-align: middle;\n",
       "    }\n",
       "\n",
       "    .dataframe tbody tr th {\n",
       "        vertical-align: top;\n",
       "    }\n",
       "\n",
       "    .dataframe thead th {\n",
       "        text-align: right;\n",
       "    }\n",
       "</style>\n",
       "<table border=\"1\" class=\"dataframe\">\n",
       "  <thead>\n",
       "    <tr style=\"text-align: right;\">\n",
       "      <th></th>\n",
       "      <th>STATIONS_ID</th>\n",
       "      <th>MESS_DATUM</th>\n",
       "      <th>QN_8</th>\n",
       "      <th>R1</th>\n",
       "      <th>RS_IND</th>\n",
       "      <th>WRTR</th>\n",
       "      <th>eor</th>\n",
       "    </tr>\n",
       "  </thead>\n",
       "  <tbody>\n",
       "    <tr>\n",
       "      <th>0</th>\n",
       "      <td>13670</td>\n",
       "      <td>2017122200</td>\n",
       "      <td>3</td>\n",
       "      <td>0.0</td>\n",
       "      <td>0</td>\n",
       "      <td>-999</td>\n",
       "      <td>eor</td>\n",
       "    </tr>\n",
       "    <tr>\n",
       "      <th>1</th>\n",
       "      <td>13670</td>\n",
       "      <td>2017122201</td>\n",
       "      <td>3</td>\n",
       "      <td>0.0</td>\n",
       "      <td>0</td>\n",
       "      <td>-999</td>\n",
       "      <td>eor</td>\n",
       "    </tr>\n",
       "    <tr>\n",
       "      <th>2</th>\n",
       "      <td>13670</td>\n",
       "      <td>2017122202</td>\n",
       "      <td>3</td>\n",
       "      <td>0.0</td>\n",
       "      <td>1</td>\n",
       "      <td>-999</td>\n",
       "      <td>eor</td>\n",
       "    </tr>\n",
       "    <tr>\n",
       "      <th>3</th>\n",
       "      <td>13670</td>\n",
       "      <td>2017122203</td>\n",
       "      <td>3</td>\n",
       "      <td>0.2</td>\n",
       "      <td>1</td>\n",
       "      <td>-999</td>\n",
       "      <td>eor</td>\n",
       "    </tr>\n",
       "    <tr>\n",
       "      <th>4</th>\n",
       "      <td>13670</td>\n",
       "      <td>2017122204</td>\n",
       "      <td>3</td>\n",
       "      <td>0.2</td>\n",
       "      <td>1</td>\n",
       "      <td>-999</td>\n",
       "      <td>eor</td>\n",
       "    </tr>\n",
       "  </tbody>\n",
       "</table>\n",
       "</div>"
      ],
      "text/plain": [
       "   STATIONS_ID  MESS_DATUM  QN_8    R1  RS_IND  WRTR  eor\n",
       "0        13670  2017122200     3   0.0       0  -999  eor\n",
       "1        13670  2017122201     3   0.0       0  -999  eor\n",
       "2        13670  2017122202     3   0.0       1  -999  eor\n",
       "3        13670  2017122203     3   0.2       1  -999  eor\n",
       "4        13670  2017122204     3   0.2       1  -999  eor"
      ]
     },
     "execution_count": 26,
     "metadata": {},
     "output_type": "execute_result"
    }
   ],
   "source": [
    "rr1_df.head()"
   ]
  },
  {
   "cell_type": "markdown",
   "metadata": {},
   "source": [
    "**Some issues:**\n",
    "1. The R1 column has an issue. The leading blanks are disturbing. \n",
    "1. Furthermore I decided to use lower letters only for all column names.\n",
    "1. The columm MESS_DATUM contains date/time information but we have to tell pandas to parse it correctly.\n",
    "1. The column MESS_DATUM should become the index (\"row identifier\") of the data frame. \n"
   ]
  },
  {
   "cell_type": "code",
   "execution_count": 27,
   "metadata": {},
   "outputs": [
    {
     "name": "stdout",
     "output_type": "stream",
     "text": [
      "Index(['STATIONS_ID', 'MESS_DATUM', 'QN_8', '  R1', 'RS_IND', 'WRTR', 'eor'], dtype='object')\n"
     ]
    }
   ],
   "source": [
    "# look at the column name for R1\n",
    "print(rr1_df.columns)"
   ]
  },
  {
   "cell_type": "code",
   "execution_count": 28,
   "metadata": {},
   "outputs": [
    {
     "name": "stdout",
     "output_type": "stream",
     "text": [
      "old headers:  ['STATIONS_ID', 'MESS_DATUM', 'QN_8', '  R1', 'RS_IND', 'WRTR', 'eor']\n",
      "new headers:  ['stations_id', 'mess_datum', 'qn_8', 'r1', 'rs_ind', 'wrtr', 'eor']\n"
     ]
    }
   ],
   "source": [
    "# generate new headers from the old: strip() and lower()\n",
    "old_headers = list(rr1_df.columns)\n",
    "new_headers = [h.strip().lower() for h in old_headers]\n",
    "print(\"old headers: \", old_headers)\n",
    "print(\"new headers: \", new_headers)"
   ]
  },
  {
   "cell_type": "markdown",
   "metadata": {},
   "source": [
    "To **rename columns** in pandas we have to **pass a dictionary** to the method df.rename() with old column names as keys and new column names as values, e.g. `{\"old name\" : \"new name\", \"  R1\" : \"R1\"}`"
   ]
  },
  {
   "cell_type": "code",
   "execution_count": 29,
   "metadata": {},
   "outputs": [
    {
     "data": {
      "text/plain": [
       "{'STATIONS_ID': 'stations_id',\n",
       " 'MESS_DATUM': 'mess_datum',\n",
       " 'QN_8': 'qn_8',\n",
       " '  R1': 'r1',\n",
       " 'RS_IND': 'rs_ind',\n",
       " 'WRTR': 'wrtr',\n",
       " 'eor': 'eor'}"
      ]
     },
     "execution_count": 29,
     "metadata": {},
     "output_type": "execute_result"
    }
   ],
   "source": [
    "rename_dict = {}\n",
    "for o,n in zip(old_headers, new_headers):\n",
    "    rename_dict[o]= n\n",
    "\n",
    "rename_dict"
   ]
  },
  {
   "cell_type": "code",
   "execution_count": 30,
   "metadata": {},
   "outputs": [
    {
     "data": {
      "text/html": [
       "<div>\n",
       "<style scoped>\n",
       "    .dataframe tbody tr th:only-of-type {\n",
       "        vertical-align: middle;\n",
       "    }\n",
       "\n",
       "    .dataframe tbody tr th {\n",
       "        vertical-align: top;\n",
       "    }\n",
       "\n",
       "    .dataframe thead th {\n",
       "        text-align: right;\n",
       "    }\n",
       "</style>\n",
       "<table border=\"1\" class=\"dataframe\">\n",
       "  <thead>\n",
       "    <tr style=\"text-align: right;\">\n",
       "      <th></th>\n",
       "      <th>stations_id</th>\n",
       "      <th>mess_datum</th>\n",
       "      <th>qn_8</th>\n",
       "      <th>r1</th>\n",
       "      <th>rs_ind</th>\n",
       "      <th>wrtr</th>\n",
       "      <th>eor</th>\n",
       "    </tr>\n",
       "  </thead>\n",
       "  <tbody>\n",
       "    <tr>\n",
       "      <th>0</th>\n",
       "      <td>13670</td>\n",
       "      <td>2017122200</td>\n",
       "      <td>3</td>\n",
       "      <td>0.0</td>\n",
       "      <td>0</td>\n",
       "      <td>-999</td>\n",
       "      <td>eor</td>\n",
       "    </tr>\n",
       "    <tr>\n",
       "      <th>1</th>\n",
       "      <td>13670</td>\n",
       "      <td>2017122201</td>\n",
       "      <td>3</td>\n",
       "      <td>0.0</td>\n",
       "      <td>0</td>\n",
       "      <td>-999</td>\n",
       "      <td>eor</td>\n",
       "    </tr>\n",
       "    <tr>\n",
       "      <th>2</th>\n",
       "      <td>13670</td>\n",
       "      <td>2017122202</td>\n",
       "      <td>3</td>\n",
       "      <td>0.0</td>\n",
       "      <td>1</td>\n",
       "      <td>-999</td>\n",
       "      <td>eor</td>\n",
       "    </tr>\n",
       "    <tr>\n",
       "      <th>3</th>\n",
       "      <td>13670</td>\n",
       "      <td>2017122203</td>\n",
       "      <td>3</td>\n",
       "      <td>0.2</td>\n",
       "      <td>1</td>\n",
       "      <td>-999</td>\n",
       "      <td>eor</td>\n",
       "    </tr>\n",
       "    <tr>\n",
       "      <th>4</th>\n",
       "      <td>13670</td>\n",
       "      <td>2017122204</td>\n",
       "      <td>3</td>\n",
       "      <td>0.2</td>\n",
       "      <td>1</td>\n",
       "      <td>-999</td>\n",
       "      <td>eor</td>\n",
       "    </tr>\n",
       "  </tbody>\n",
       "</table>\n",
       "</div>"
      ],
      "text/plain": [
       "   stations_id  mess_datum  qn_8   r1  rs_ind  wrtr  eor\n",
       "0        13670  2017122200     3  0.0       0  -999  eor\n",
       "1        13670  2017122201     3  0.0       0  -999  eor\n",
       "2        13670  2017122202     3  0.0       1  -999  eor\n",
       "3        13670  2017122203     3  0.2       1  -999  eor\n",
       "4        13670  2017122204     3  0.2       1  -999  eor"
      ]
     },
     "execution_count": 30,
     "metadata": {},
     "output_type": "execute_result"
    }
   ],
   "source": [
    "rr1_df.rename(rename_dict, axis='columns', inplace = True)\n",
    "rr1_df.head()"
   ]
  },
  {
   "cell_type": "code",
   "execution_count": 31,
   "metadata": {},
   "outputs": [
    {
     "data": {
      "text/plain": [
       "stations_id      int64\n",
       "mess_datum       int64\n",
       "qn_8             int64\n",
       "r1             float64\n",
       "rs_ind           int64\n",
       "wrtr             int64\n",
       "eor             object\n",
       "dtype: object"
      ]
     },
     "execution_count": 31,
     "metadata": {},
     "output_type": "execute_result"
    }
   ],
   "source": [
    "rr1_df.dtypes"
   ]
  },
  {
   "cell_type": "markdown",
   "metadata": {},
   "source": [
    "### The annoying date conversion ... ###\n",
    "\n",
    "From `rr1_df.dtypes` you see that the column `mess_datum` is of data type int64 and not date. It is just an integer number.\n",
    "\n",
    "We have to parse it in order to interpret it correctly as a date.\n",
    "\n",
    "An example: The number `2017122200` has to be converted to a string first.\n",
    "\n",
    "Then this string has to be parsed according to its format, which is `\"%Y%m%d%H\"`, i.e. year, month, day, hours."
   ]
  },
  {
   "cell_type": "code",
   "execution_count": 32,
   "metadata": {},
   "outputs": [
    {
     "data": {
      "text/plain": [
       "2017122200"
      ]
     },
     "execution_count": 32,
     "metadata": {},
     "output_type": "execute_result"
    }
   ],
   "source": [
    "i = 2017122200\n",
    "i"
   ]
  },
  {
   "cell_type": "code",
   "execution_count": 33,
   "metadata": {},
   "outputs": [
    {
     "data": {
      "text/plain": [
       "'2017122200'"
      ]
     },
     "execution_count": 33,
     "metadata": {},
     "output_type": "execute_result"
    }
   ],
   "source": [
    "s = str(i)\n",
    "s"
   ]
  },
  {
   "cell_type": "code",
   "execution_count": 34,
   "metadata": {},
   "outputs": [],
   "source": [
    "#from dateutil import parser"
   ]
  },
  {
   "cell_type": "code",
   "execution_count": 35,
   "metadata": {},
   "outputs": [
    {
     "data": {
      "text/plain": [
       "Timestamp('2017-12-22 00:00:00')"
      ]
     },
     "execution_count": 35,
     "metadata": {},
     "output_type": "execute_result"
    }
   ],
   "source": [
    "pd.to_datetime(s, format = \"%Y%m%d%H\")"
   ]
  },
  {
   "cell_type": "markdown",
   "metadata": {},
   "source": [
    "**Some pandas magic again!** <br>\n",
    "The column `mess_datum` is of data type `int64` but pandas knows what to do when parsing this as a string!"
   ]
  },
  {
   "cell_type": "code",
   "execution_count": 36,
   "metadata": {},
   "outputs": [
    {
     "name": "stdout",
     "output_type": "stream",
     "text": [
      "Data type of column 'mess_datum' is int64 !!!\n",
      "Still the parser works ...\n"
     ]
    }
   ],
   "source": [
    "print(\"Data type of column 'mess_datum' is %s !!!\" % rr1_df[\"mess_datum\"].dtype)\n",
    "print(\"Still the parser works ...\")\n",
    "\n",
    "rr1_df[\"mess_datum\"] = pd.to_datetime(rr1_df[\"mess_datum\"], format = \"%Y%m%d%H\")"
   ]
  },
  {
   "cell_type": "code",
   "execution_count": 37,
   "metadata": {},
   "outputs": [
    {
     "data": {
      "text/html": [
       "<div>\n",
       "<style scoped>\n",
       "    .dataframe tbody tr th:only-of-type {\n",
       "        vertical-align: middle;\n",
       "    }\n",
       "\n",
       "    .dataframe tbody tr th {\n",
       "        vertical-align: top;\n",
       "    }\n",
       "\n",
       "    .dataframe thead th {\n",
       "        text-align: right;\n",
       "    }\n",
       "</style>\n",
       "<table border=\"1\" class=\"dataframe\">\n",
       "  <thead>\n",
       "    <tr style=\"text-align: right;\">\n",
       "      <th></th>\n",
       "      <th>stations_id</th>\n",
       "      <th>mess_datum</th>\n",
       "      <th>qn_8</th>\n",
       "      <th>r1</th>\n",
       "      <th>rs_ind</th>\n",
       "      <th>wrtr</th>\n",
       "      <th>eor</th>\n",
       "    </tr>\n",
       "  </thead>\n",
       "  <tbody>\n",
       "    <tr>\n",
       "      <th>0</th>\n",
       "      <td>13670</td>\n",
       "      <td>2017-12-22 00:00:00</td>\n",
       "      <td>3</td>\n",
       "      <td>0.0</td>\n",
       "      <td>0</td>\n",
       "      <td>-999</td>\n",
       "      <td>eor</td>\n",
       "    </tr>\n",
       "    <tr>\n",
       "      <th>1</th>\n",
       "      <td>13670</td>\n",
       "      <td>2017-12-22 01:00:00</td>\n",
       "      <td>3</td>\n",
       "      <td>0.0</td>\n",
       "      <td>0</td>\n",
       "      <td>-999</td>\n",
       "      <td>eor</td>\n",
       "    </tr>\n",
       "    <tr>\n",
       "      <th>2</th>\n",
       "      <td>13670</td>\n",
       "      <td>2017-12-22 02:00:00</td>\n",
       "      <td>3</td>\n",
       "      <td>0.0</td>\n",
       "      <td>1</td>\n",
       "      <td>-999</td>\n",
       "      <td>eor</td>\n",
       "    </tr>\n",
       "    <tr>\n",
       "      <th>3</th>\n",
       "      <td>13670</td>\n",
       "      <td>2017-12-22 03:00:00</td>\n",
       "      <td>3</td>\n",
       "      <td>0.2</td>\n",
       "      <td>1</td>\n",
       "      <td>-999</td>\n",
       "      <td>eor</td>\n",
       "    </tr>\n",
       "    <tr>\n",
       "      <th>4</th>\n",
       "      <td>13670</td>\n",
       "      <td>2017-12-22 04:00:00</td>\n",
       "      <td>3</td>\n",
       "      <td>0.2</td>\n",
       "      <td>1</td>\n",
       "      <td>-999</td>\n",
       "      <td>eor</td>\n",
       "    </tr>\n",
       "  </tbody>\n",
       "</table>\n",
       "</div>"
      ],
      "text/plain": [
       "   stations_id          mess_datum  qn_8   r1  rs_ind  wrtr  eor\n",
       "0        13670 2017-12-22 00:00:00     3  0.0       0  -999  eor\n",
       "1        13670 2017-12-22 01:00:00     3  0.0       0  -999  eor\n",
       "2        13670 2017-12-22 02:00:00     3  0.0       1  -999  eor\n",
       "3        13670 2017-12-22 03:00:00     3  0.2       1  -999  eor\n",
       "4        13670 2017-12-22 04:00:00     3  0.2       1  -999  eor"
      ]
     },
     "execution_count": 37,
     "metadata": {},
     "output_type": "execute_result"
    }
   ],
   "source": [
    "rr1_df.head()"
   ]
  },
  {
   "cell_type": "markdown",
   "metadata": {},
   "source": [
    "**Now let us change the index.**"
   ]
  },
  {
   "cell_type": "code",
   "execution_count": 38,
   "metadata": {},
   "outputs": [],
   "source": [
    "rr1_df.index = rr1_df[\"mess_datum\"]"
   ]
  },
  {
   "cell_type": "code",
   "execution_count": 39,
   "metadata": {},
   "outputs": [
    {
     "data": {
      "text/html": [
       "<div>\n",
       "<style scoped>\n",
       "    .dataframe tbody tr th:only-of-type {\n",
       "        vertical-align: middle;\n",
       "    }\n",
       "\n",
       "    .dataframe tbody tr th {\n",
       "        vertical-align: top;\n",
       "    }\n",
       "\n",
       "    .dataframe thead th {\n",
       "        text-align: right;\n",
       "    }\n",
       "</style>\n",
       "<table border=\"1\" class=\"dataframe\">\n",
       "  <thead>\n",
       "    <tr style=\"text-align: right;\">\n",
       "      <th></th>\n",
       "      <th>stations_id</th>\n",
       "      <th>mess_datum</th>\n",
       "      <th>qn_8</th>\n",
       "      <th>r1</th>\n",
       "      <th>rs_ind</th>\n",
       "      <th>wrtr</th>\n",
       "      <th>eor</th>\n",
       "    </tr>\n",
       "    <tr>\n",
       "      <th>mess_datum</th>\n",
       "      <th></th>\n",
       "      <th></th>\n",
       "      <th></th>\n",
       "      <th></th>\n",
       "      <th></th>\n",
       "      <th></th>\n",
       "      <th></th>\n",
       "    </tr>\n",
       "  </thead>\n",
       "  <tbody>\n",
       "    <tr>\n",
       "      <th>2017-12-22 00:00:00</th>\n",
       "      <td>13670</td>\n",
       "      <td>2017-12-22 00:00:00</td>\n",
       "      <td>3</td>\n",
       "      <td>0.0</td>\n",
       "      <td>0</td>\n",
       "      <td>-999</td>\n",
       "      <td>eor</td>\n",
       "    </tr>\n",
       "    <tr>\n",
       "      <th>2017-12-22 01:00:00</th>\n",
       "      <td>13670</td>\n",
       "      <td>2017-12-22 01:00:00</td>\n",
       "      <td>3</td>\n",
       "      <td>0.0</td>\n",
       "      <td>0</td>\n",
       "      <td>-999</td>\n",
       "      <td>eor</td>\n",
       "    </tr>\n",
       "    <tr>\n",
       "      <th>2017-12-22 02:00:00</th>\n",
       "      <td>13670</td>\n",
       "      <td>2017-12-22 02:00:00</td>\n",
       "      <td>3</td>\n",
       "      <td>0.0</td>\n",
       "      <td>1</td>\n",
       "      <td>-999</td>\n",
       "      <td>eor</td>\n",
       "    </tr>\n",
       "    <tr>\n",
       "      <th>2017-12-22 03:00:00</th>\n",
       "      <td>13670</td>\n",
       "      <td>2017-12-22 03:00:00</td>\n",
       "      <td>3</td>\n",
       "      <td>0.2</td>\n",
       "      <td>1</td>\n",
       "      <td>-999</td>\n",
       "      <td>eor</td>\n",
       "    </tr>\n",
       "    <tr>\n",
       "      <th>2017-12-22 04:00:00</th>\n",
       "      <td>13670</td>\n",
       "      <td>2017-12-22 04:00:00</td>\n",
       "      <td>3</td>\n",
       "      <td>0.2</td>\n",
       "      <td>1</td>\n",
       "      <td>-999</td>\n",
       "      <td>eor</td>\n",
       "    </tr>\n",
       "  </tbody>\n",
       "</table>\n",
       "</div>"
      ],
      "text/plain": [
       "                     stations_id          mess_datum  qn_8   r1  rs_ind  wrtr  \\\n",
       "mess_datum                                                                      \n",
       "2017-12-22 00:00:00        13670 2017-12-22 00:00:00     3  0.0       0  -999   \n",
       "2017-12-22 01:00:00        13670 2017-12-22 01:00:00     3  0.0       0  -999   \n",
       "2017-12-22 02:00:00        13670 2017-12-22 02:00:00     3  0.0       1  -999   \n",
       "2017-12-22 03:00:00        13670 2017-12-22 03:00:00     3  0.2       1  -999   \n",
       "2017-12-22 04:00:00        13670 2017-12-22 04:00:00     3  0.2       1  -999   \n",
       "\n",
       "                     eor  \n",
       "mess_datum                \n",
       "2017-12-22 00:00:00  eor  \n",
       "2017-12-22 01:00:00  eor  \n",
       "2017-12-22 02:00:00  eor  \n",
       "2017-12-22 03:00:00  eor  \n",
       "2017-12-22 04:00:00  eor  "
      ]
     },
     "execution_count": 39,
     "metadata": {},
     "output_type": "execute_result"
    }
   ],
   "source": [
    "rr1_df.head()"
   ]
  },
  {
   "cell_type": "markdown",
   "metadata": {},
   "source": [
    "### From now on everything is a piece of cake!###"
   ]
  },
  {
   "cell_type": "code",
   "execution_count": 51,
   "metadata": {},
   "outputs": [],
   "source": [
    "%matplotlib inline\n",
    "import matplotlib.pyplot as plt\n",
    "#import matplotlib as mpl\n",
    "# config the plot size\n",
    "plt.rcParams['figure.figsize'] = (6,4) # Set the default figure size. You have to calibrate DPI\n",
    "plt.rcParams['figure.dpi'] = 136\n",
    "plt.show()"
   ]
  },
  {
   "cell_type": "code",
   "execution_count": 52,
   "metadata": {},
   "outputs": [
    {
     "data": {
      "image/png": "[encoded data removed]",
      "text/plain": [
       "<Figure size 816x544 with 1 Axes>"
      ]
     },
     "metadata": {
      "needs_background": "light"
     },
     "output_type": "display_data"
    }
   ],
   "source": [
    "fig = plt.fu\n",
    "rr1_df[\"r1\"].plot()\n",
    "plt.show()"
   ]
  },
  {
   "cell_type": "markdown",
   "metadata": {},
   "source": [
    "## Let us read another file and SPEEP UP :-) ##\n",
    "\n",
    "ftp://ftp-cdc.dwd.de/pub/CDC/observations_germany/climate/hourly/precipitation/recent/stundenwerte_RR_00989_akt.zip\n",
    "\n",
    "Let us import it according to what we have done before."
   ]
  },
  {
   "cell_type": "code",
   "execution_count": 42,
   "metadata": {},
   "outputs": [
    {
     "data": {
      "text/plain": [
       "['Metadaten_Fehlwerte_Gesamt_00989.html',\n",
       " 'Metadaten_Fehlwerte_Gesamt_00989.txt',\n",
       " 'Metadaten_Geographie_00989.txt',\n",
       " 'Metadaten_Geraete_Niederschlagshoehe_00989.html',\n",
       " 'Metadaten_Geraete_Niederschlagshoehe_00989.txt',\n",
       " 'Metadaten_Parameter_rr_stunde_00989.html',\n",
       " 'Metadaten_Parameter_rr_stunde_00989.txt',\n",
       " 'Metadaten_Stationsname_00989.html',\n",
       " 'Metadaten_Stationsname_00989.txt',\n",
       " 'produkt_rr_stunde_20171222_20190624_00989.txt']"
      ]
     },
     "execution_count": 42,
     "metadata": {},
     "output_type": "execute_result"
    }
   ],
   "source": [
    "os.listdir(\"stundenwerte_RR_00989_akt\")"
   ]
  },
  {
   "cell_type": "code",
   "execution_count": 43,
   "metadata": {},
   "outputs": [],
   "source": [
    "fname2 = \"stundenwerte_RR_00989_akt/produkt_rr_stunde_20171222_20190624_00989.txt\""
   ]
  },
  {
   "cell_type": "code",
   "execution_count": 44,
   "metadata": {},
   "outputs": [],
   "source": [
    "parser = lambda date: pd.datetime.strptime(date, '%Y%m%d%H')"
   ]
  },
  {
   "cell_type": "code",
   "execution_count": 45,
   "metadata": {},
   "outputs": [],
   "source": [
    "rr2_df = pd.read_csv(fname2, sep = \";\" , skiprows = [0], names = new_headers, \n",
    "                     parse_dates = [\"mess_datum\"], date_parser = parser, index_col = \"mess_datum\")"
   ]
  },
  {
   "cell_type": "code",
   "execution_count": 46,
   "metadata": {},
   "outputs": [
    {
     "data": {
      "text/html": [
       "<div>\n",
       "<style scoped>\n",
       "    .dataframe tbody tr th:only-of-type {\n",
       "        vertical-align: middle;\n",
       "    }\n",
       "\n",
       "    .dataframe tbody tr th {\n",
       "        vertical-align: top;\n",
       "    }\n",
       "\n",
       "    .dataframe thead th {\n",
       "        text-align: right;\n",
       "    }\n",
       "</style>\n",
       "<table border=\"1\" class=\"dataframe\">\n",
       "  <thead>\n",
       "    <tr style=\"text-align: right;\">\n",
       "      <th></th>\n",
       "      <th>stations_id</th>\n",
       "      <th>qn_8</th>\n",
       "      <th>r1</th>\n",
       "      <th>rs_ind</th>\n",
       "      <th>wrtr</th>\n",
       "      <th>eor</th>\n",
       "    </tr>\n",
       "    <tr>\n",
       "      <th>mess_datum</th>\n",
       "      <th></th>\n",
       "      <th></th>\n",
       "      <th></th>\n",
       "      <th></th>\n",
       "      <th></th>\n",
       "      <th></th>\n",
       "    </tr>\n",
       "  </thead>\n",
       "  <tbody>\n",
       "    <tr>\n",
       "      <th>2017-12-22 00:00:00</th>\n",
       "      <td>989</td>\n",
       "      <td>3</td>\n",
       "      <td>0.0</td>\n",
       "      <td>0</td>\n",
       "      <td>-999</td>\n",
       "      <td>eor</td>\n",
       "    </tr>\n",
       "    <tr>\n",
       "      <th>2017-12-22 01:00:00</th>\n",
       "      <td>989</td>\n",
       "      <td>3</td>\n",
       "      <td>0.0</td>\n",
       "      <td>0</td>\n",
       "      <td>-999</td>\n",
       "      <td>eor</td>\n",
       "    </tr>\n",
       "    <tr>\n",
       "      <th>2017-12-22 02:00:00</th>\n",
       "      <td>989</td>\n",
       "      <td>3</td>\n",
       "      <td>0.0</td>\n",
       "      <td>1</td>\n",
       "      <td>-999</td>\n",
       "      <td>eor</td>\n",
       "    </tr>\n",
       "    <tr>\n",
       "      <th>2017-12-22 03:00:00</th>\n",
       "      <td>989</td>\n",
       "      <td>3</td>\n",
       "      <td>0.1</td>\n",
       "      <td>1</td>\n",
       "      <td>-999</td>\n",
       "      <td>eor</td>\n",
       "    </tr>\n",
       "    <tr>\n",
       "      <th>2017-12-22 04:00:00</th>\n",
       "      <td>989</td>\n",
       "      <td>3</td>\n",
       "      <td>0.1</td>\n",
       "      <td>1</td>\n",
       "      <td>-999</td>\n",
       "      <td>eor</td>\n",
       "    </tr>\n",
       "  </tbody>\n",
       "</table>\n",
       "</div>"
      ],
      "text/plain": [
       "                     stations_id  qn_8   r1  rs_ind  wrtr  eor\n",
       "mess_datum                                                    \n",
       "2017-12-22 00:00:00          989     3  0.0       0  -999  eor\n",
       "2017-12-22 01:00:00          989     3  0.0       0  -999  eor\n",
       "2017-12-22 02:00:00          989     3  0.0       1  -999  eor\n",
       "2017-12-22 03:00:00          989     3  0.1       1  -999  eor\n",
       "2017-12-22 04:00:00          989     3  0.1       1  -999  eor"
      ]
     },
     "execution_count": 46,
     "metadata": {},
     "output_type": "execute_result"
    }
   ],
   "source": [
    "rr2_df.head()"
   ]
  },
  {
   "cell_type": "code",
   "execution_count": 47,
   "metadata": {},
   "outputs": [
    {
     "data": {
      "image/png": "[encoded data removed]",
      "text/plain": [
       "<Figure size 432x288 with 1 Axes>"
      ]
     },
     "metadata": {
      "needs_background": "light"
     },
     "output_type": "display_data"
    }
   ],
   "source": [
    "rr2_df[\"r1\"].plot()\n",
    "plt.show()"
   ]
  },
  {
   "cell_type": "markdown",
   "metadata": {},
   "source": [
    "### Merge the two times series where the indices match. ###"
   ]
  },
  {
   "cell_type": "code",
   "execution_count": 48,
   "metadata": {},
   "outputs": [
    {
     "data": {
      "text/html": [
       "<div>\n",
       "<style scoped>\n",
       "    .dataframe tbody tr th:only-of-type {\n",
       "        vertical-align: middle;\n",
       "    }\n",
       "\n",
       "    .dataframe tbody tr th {\n",
       "        vertical-align: top;\n",
       "    }\n",
       "\n",
       "    .dataframe thead th {\n",
       "        text-align: right;\n",
       "    }\n",
       "</style>\n",
       "<table border=\"1\" class=\"dataframe\">\n",
       "  <thead>\n",
       "    <tr style=\"text-align: right;\">\n",
       "      <th></th>\n",
       "      <th>stations_id_S1</th>\n",
       "      <th>mess_datum</th>\n",
       "      <th>qn_8_S1</th>\n",
       "      <th>r1_S1</th>\n",
       "      <th>rs_ind_S1</th>\n",
       "      <th>wrtr_S1</th>\n",
       "      <th>eor_S1</th>\n",
       "      <th>stations_id_S2</th>\n",
       "      <th>qn_8_S2</th>\n",
       "      <th>r1_S2</th>\n",
       "      <th>rs_ind_S2</th>\n",
       "      <th>wrtr_S2</th>\n",
       "      <th>eor_S2</th>\n",
       "    </tr>\n",
       "    <tr>\n",
       "      <th>mess_datum</th>\n",
       "      <th></th>\n",
       "      <th></th>\n",
       "      <th></th>\n",
       "      <th></th>\n",
       "      <th></th>\n",
       "      <th></th>\n",
       "      <th></th>\n",
       "      <th></th>\n",
       "      <th></th>\n",
       "      <th></th>\n",
       "      <th></th>\n",
       "      <th></th>\n",
       "      <th></th>\n",
       "    </tr>\n",
       "  </thead>\n",
       "  <tbody>\n",
       "    <tr>\n",
       "      <th>2017-12-22 00:00:00</th>\n",
       "      <td>13670</td>\n",
       "      <td>2017-12-22 00:00:00</td>\n",
       "      <td>3</td>\n",
       "      <td>0.0</td>\n",
       "      <td>0</td>\n",
       "      <td>-999</td>\n",
       "      <td>eor</td>\n",
       "      <td>989</td>\n",
       "      <td>3</td>\n",
       "      <td>0.0</td>\n",
       "      <td>0</td>\n",
       "      <td>-999</td>\n",
       "      <td>eor</td>\n",
       "    </tr>\n",
       "    <tr>\n",
       "      <th>2017-12-22 01:00:00</th>\n",
       "      <td>13670</td>\n",
       "      <td>2017-12-22 01:00:00</td>\n",
       "      <td>3</td>\n",
       "      <td>0.0</td>\n",
       "      <td>0</td>\n",
       "      <td>-999</td>\n",
       "      <td>eor</td>\n",
       "      <td>989</td>\n",
       "      <td>3</td>\n",
       "      <td>0.0</td>\n",
       "      <td>0</td>\n",
       "      <td>-999</td>\n",
       "      <td>eor</td>\n",
       "    </tr>\n",
       "    <tr>\n",
       "      <th>2017-12-22 02:00:00</th>\n",
       "      <td>13670</td>\n",
       "      <td>2017-12-22 02:00:00</td>\n",
       "      <td>3</td>\n",
       "      <td>0.0</td>\n",
       "      <td>1</td>\n",
       "      <td>-999</td>\n",
       "      <td>eor</td>\n",
       "      <td>989</td>\n",
       "      <td>3</td>\n",
       "      <td>0.0</td>\n",
       "      <td>1</td>\n",
       "      <td>-999</td>\n",
       "      <td>eor</td>\n",
       "    </tr>\n",
       "    <tr>\n",
       "      <th>2017-12-22 03:00:00</th>\n",
       "      <td>13670</td>\n",
       "      <td>2017-12-22 03:00:00</td>\n",
       "      <td>3</td>\n",
       "      <td>0.2</td>\n",
       "      <td>1</td>\n",
       "      <td>-999</td>\n",
       "      <td>eor</td>\n",
       "      <td>989</td>\n",
       "      <td>3</td>\n",
       "      <td>0.1</td>\n",
       "      <td>1</td>\n",
       "      <td>-999</td>\n",
       "      <td>eor</td>\n",
       "    </tr>\n",
       "    <tr>\n",
       "      <th>2017-12-22 04:00:00</th>\n",
       "      <td>13670</td>\n",
       "      <td>2017-12-22 04:00:00</td>\n",
       "      <td>3</td>\n",
       "      <td>0.2</td>\n",
       "      <td>1</td>\n",
       "      <td>-999</td>\n",
       "      <td>eor</td>\n",
       "      <td>989</td>\n",
       "      <td>3</td>\n",
       "      <td>0.1</td>\n",
       "      <td>1</td>\n",
       "      <td>-999</td>\n",
       "      <td>eor</td>\n",
       "    </tr>\n",
       "  </tbody>\n",
       "</table>\n",
       "</div>"
      ],
      "text/plain": [
       "                     stations_id_S1          mess_datum  qn_8_S1  r1_S1  \\\n",
       "mess_datum                                                                \n",
       "2017-12-22 00:00:00           13670 2017-12-22 00:00:00        3    0.0   \n",
       "2017-12-22 01:00:00           13670 2017-12-22 01:00:00        3    0.0   \n",
       "2017-12-22 02:00:00           13670 2017-12-22 02:00:00        3    0.0   \n",
       "2017-12-22 03:00:00           13670 2017-12-22 03:00:00        3    0.2   \n",
       "2017-12-22 04:00:00           13670 2017-12-22 04:00:00        3    0.2   \n",
       "\n",
       "                     rs_ind_S1  wrtr_S1 eor_S1  stations_id_S2  qn_8_S2  \\\n",
       "mess_datum                                                                \n",
       "2017-12-22 00:00:00          0     -999    eor             989        3   \n",
       "2017-12-22 01:00:00          0     -999    eor             989        3   \n",
       "2017-12-22 02:00:00          1     -999    eor             989        3   \n",
       "2017-12-22 03:00:00          1     -999    eor             989        3   \n",
       "2017-12-22 04:00:00          1     -999    eor             989        3   \n",
       "\n",
       "                     r1_S2  rs_ind_S2  wrtr_S2 eor_S2  \n",
       "mess_datum                                             \n",
       "2017-12-22 00:00:00    0.0          0     -999    eor  \n",
       "2017-12-22 01:00:00    0.0          0     -999    eor  \n",
       "2017-12-22 02:00:00    0.0          1     -999    eor  \n",
       "2017-12-22 03:00:00    0.1          1     -999    eor  \n",
       "2017-12-22 04:00:00    0.1          1     -999    eor  "
      ]
     },
     "execution_count": 48,
     "metadata": {},
     "output_type": "execute_result"
    }
   ],
   "source": [
    "joined_df = rr1_df.merge(rr2_df, suffixes = (\"_S1\", \"_S2\"), left_index=True, right_index=True)\n",
    "joined_df.head()"
   ]
  },
  {
   "cell_type": "code",
   "execution_count": 49,
   "metadata": {},
   "outputs": [
    {
     "data": {
      "image/png": "[encoded data removed]",
      "text/plain": [
       "<Figure size 288x288 with 1 Axes>"
      ]
     },
     "metadata": {
      "needs_background": "light"
     },
     "output_type": "display_data"
    }
   ],
   "source": [
    "fig = plt.figure(figsize = (4,4))\n",
    "ax = fig.add_subplot(111)\n",
    "ax.plot(joined_df[\"r1_S1\"], joined_df[\"r1_S2\"],\"*\")\n",
    "ax.set_aspect('equal', 'box')\n",
    "ax.axis([0, 16, 0, 16])\n",
    "ax.grid(True)\n",
    "plt.show()"
   ]
  },
  {
   "cell_type": "code",
   "execution_count": 50,
   "metadata": {},
   "outputs": [
    {
     "data": {
      "image/png": "[encoded data removed]",
      "text/plain": [
       "<Figure size 288x288 with 1 Axes>"
      ]
     },
     "metadata": {
      "needs_background": "light"
     },
     "output_type": "display_data"
    }
   ],
   "source": [
    "fig = plt.figure(figsize = (4,4))\n",
    "ax = fig.add_subplot(111)\n",
    "ax.plot(joined_df[\"r1_S1\"], joined_df[\"r1_S2\"],\"*\")\n",
    "ax.set_aspect('equal', 'box')\n",
    "ax.axis([0, 8, 0, 8])\n",
    "ax.grid(True)\n",
    "plt.show()"
   ]
  },
  {
   "cell_type": "code",
   "execution_count": null,
   "metadata": {},
   "outputs": [],
   "source": []
  },
  {
   "cell_type": "code",
   "execution_count": null,
   "metadata": {},
   "outputs": [],
   "source": []
  }
 ],
 "metadata": {
  "kernelspec": {
   "display_name": "Python 3",
   "language": "python",
   "name": "python3"
  },
  "language_info": {
   "codemirror_mode": {
    "name": "ipython",
    "version": 3
   },
   "file_extension": ".py",
   "mimetype": "text/x-python",
   "name": "python",
   "nbconvert_exporter": "python",
   "pygments_lexer": "ipython3",
   "version": "3.6.7"
  }
 },
 "nbformat": 4,
 "nbformat_minor": 2
}
